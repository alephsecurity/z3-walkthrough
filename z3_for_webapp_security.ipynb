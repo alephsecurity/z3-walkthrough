{
 "cells": [
  {
   "cell_type": "code",
   "execution_count": 1,
   "metadata": {},
   "outputs": [],
   "source": [
    "import z3 as z\n",
    "z.set_param('parallel.enable', False)"
   ]
  },
  {
   "cell_type": "code",
   "execution_count": 2,
   "metadata": {},
   "outputs": [],
   "source": [
    "n = 3\n",
    "N = 1050"
   ]
  },
  {
   "cell_type": "code",
   "execution_count": 3,
   "metadata": {},
   "outputs": [],
   "source": [
    "ints = [z.Int(f'int_{i}') for i in range(n)]"
   ]
  },
  {
   "cell_type": "code",
   "execution_count": 4,
   "metadata": {},
   "outputs": [],
   "source": [
    "s = z.Solver()\n",
    "\n",
    "for i in range(n-1):\n",
    "    # Constraint #1\n",
    "    s.add(ints[i] > 0)\n",
    "    # Constraint #2\n",
    "    s.add(ints[i+1] == ints[i] + 1)\n",
    "\n",
    "# Constraint #3\n",
    "s.add(z.Sum(ints) == N)"
   ]
  },
  {
   "cell_type": "code",
   "execution_count": 5,
   "metadata": {},
   "outputs": [
    {
     "name": "stdout",
     "output_type": "stream",
     "text": [
      "Found a solution\n",
      "(3 terms) 349 + ... + 351 == 1050\n"
     ]
    }
   ],
   "source": [
    "if s.check() == z.sat:\n",
    "    m = s.model()\n",
    "    print('Found a solution')\n",
    "    print(f'({n} terms) {m[ints[0]].as_long()} + ... + {m[ints[n -1]].as_long()} == {N}')\n",
    "else:\n",
    "    print(f'Finding {n} consecutive integers with a sum of {N} is unsatisfiable')"
   ]
  },
  {
   "cell_type": "code",
   "execution_count": 6,
   "metadata": {},
   "outputs": [],
   "source": [
    "def build_solver(n: int, N: int):\n",
    "    # Create symbolic variables\n",
    "    ints = [z.Int(f'int{i}') for i in range(n)]\n",
    "    \n",
    "    # Instantiate a solver\n",
    "    s = z.Solver()\n",
    "    \n",
    "    for i in range(n-1):\n",
    "        # Consecutive numbers\n",
    "        s.add(ints[i+1] == ints[i] + 1)\n",
    "        # Non-zero natural numbers\n",
    "        s.add(ints[i] > 0)\n",
    "    \n",
    "    # Sum\n",
    "    s.add(z.Sum(ints) == N)\n",
    "    \n",
    "    return s"
   ]
  },
  {
   "cell_type": "code",
   "execution_count": 7,
   "metadata": {},
   "outputs": [
    {
     "name": "stdout",
     "output_type": "stream",
     "text": [
      "[int1 == int0 + 1,\n",
      " int0 > 0,\n",
      " int2 == int1 + 1,\n",
      " int1 > 0,\n",
      " int0 + int1 + int2 == 1337]\n"
     ]
    }
   ],
   "source": [
    "s = build_solver(n = 3, N = 1337)\n",
    "print(s)"
   ]
  },
  {
   "cell_type": "markdown",
   "metadata": {},
   "source": [
    "Using this approach, we can check if sets of model inputs are satisfiable. For example, below we're exploring the solution space for N = 1337:"
   ]
  },
  {
   "cell_type": "code",
   "execution_count": 8,
   "metadata": {},
   "outputs": [
    {
     "name": "stdout",
     "output_type": "stream",
     "text": [
      "Sum 1337 is unsat with 3 integers\n",
      "Sum 1337 is unsat with 4 integers\n",
      "Sum 1337 is unsat with 5 integers\n",
      "Sum 1337 is unsat with 6 integers\n",
      "Sum 1337 is sat with 7 integers\n",
      "Sum 1337 is unsat with 8 integers\n",
      "Sum 1337 is unsat with 9 integers\n"
     ]
    }
   ],
   "source": [
    "for i in range(3, 10):\n",
    "    print(f'Sum 1337 is {build_solver(n = i, N = 1337).check()} with {i} integers')"
   ]
  },
   {
   "cell_type": "code",
   "execution_count": 9,
   "metadata": {},
   "outputs": [
    {
     "name": "stdout",
     "output_type": "stream",
     "text": [
      "<class 'z3.z3.BitVecRef'>\n"
     ]
    }
   ],
   "source": [
    "output_prev = z.BitVec('output_prev', 32)\n",
    "states = {f'state_{i}': z.BitVec(f'state_{i}', 32) for i in range(1, 11)}\n",
    "output_next = z.BitVec('output_next', 32)\n",
    "\n",
    "print(type(states['state_1']))"
   ]
  },
  {
   "cell_type": "code",
   "execution_count": 10,
   "metadata": {},
   "outputs": [],
   "source": [
    "s = z.Solver()"
   ]
  },
  {
   "cell_type": "code",
   "execution_count": 11,
   "metadata": {},
   "outputs": [
    {
     "name": "stdout",
     "output_type": "stream",
     "text": [
      "[state_2 == state_1*214013 + 2531011,\n",
      " state_3 == state_2*214013 + 2531011,\n",
      " state_4 == state_3*214013 + 2531011,\n",
      " state_5 == state_4*214013 + 2531011,\n",
      " state_6 == state_5*214013 + 2531011,\n",
      " state_7 == state_6*214013 + 2531011,\n",
      " state_8 == state_7*214013 + 2531011,\n",
      " state_9 == state_8*214013 + 2531011,\n",
      " state_10 == state_9*214013 + 2531011]\n"
     ]
    }
   ],
   "source": [
    "for i in range(2, 11):\n",
    "    s.add(states[f'state_{i}'] == states[f'state_{i - 1}'] * 214013 + 2531011)\n",
    "\n",
    "print(s)"
   ]
  },
  {
   "cell_type": "code",
   "execution_count": 12,
   "metadata": {},
   "outputs": [],
   "source": [
    "random_nums = [4, 54, 63, 79, 13, 55, 76, 11, 14, 45]\n",
    "\n",
    "for i in range(2, 10):\n",
    "    s.add(z.URem((states[f'state_{i}'] >> 16) & 0x7FFF ,100) == random_nums[i - 1])"
   ]
  },
  {
   "cell_type": "code",
   "execution_count": 13,
   "metadata": {},
   "outputs": [],
   "source": [
    "s.add(output_prev == z.URem((states['state_1'] >> 16) & 0x7FFF ,100))\n",
    "s.add(output_next == z.URem((states['state_10'] >> 16) & 0x7FFF ,100))"
   ]
  },
  {
   "cell_type": "code",
   "execution_count": 14,
   "metadata": {},
   "outputs": [
    {
     "name": "stdout",
     "output_type": "stream",
     "text": [
      "[state_2 == state_1*214013 + 2531011,\n",
      " state_3 == state_2*214013 + 2531011,\n",
      " state_4 == state_3*214013 + 2531011,\n",
      " state_5 == state_4*214013 + 2531011,\n",
      " state_6 == state_5*214013 + 2531011,\n",
      " state_7 == state_6*214013 + 2531011,\n",
      " state_8 == state_7*214013 + 2531011,\n",
      " state_9 == state_8*214013 + 2531011,\n",
      " state_10 == state_9*214013 + 2531011,\n",
      " URem(state_2 >> 16 & 32767, 100) == 54,\n",
      " URem(state_3 >> 16 & 32767, 100) == 63,\n",
      " URem(state_4 >> 16 & 32767, 100) == 79,\n",
      " URem(state_5 >> 16 & 32767, 100) == 13,\n",
      " URem(state_6 >> 16 & 32767, 100) == 55,\n",
      " URem(state_7 >> 16 & 32767, 100) == 76,\n",
      " URem(state_8 >> 16 & 32767, 100) == 11,\n",
      " URem(state_9 >> 16 & 32767, 100) == 14,\n",
      " output_prev == URem(state_1 >> 16 & 32767, 100),\n",
      " output_next == URem(state_10 >> 16 & 32767, 100)]\n"
     ]
    }
   ],
   "source": [
    "print(s)"
   ]
  },
  {
   "cell_type": "code",
   "execution_count": 15,
   "metadata": {},
   "outputs": [
    {
     "name": "stdout",
     "output_type": "stream",
     "text": [
      "sat\n"
     ]
    }
   ],
   "source": [
    "print(s.check())"
   ]
  },
  {
   "cell_type": "code",
   "execution_count": 16,
   "metadata": {},
   "outputs": [
    {
     "name": "stdout",
     "output_type": "stream",
     "text": [
      "[state_3 = 3311639122,\n",
      " state_7 = 535860406,\n",
      " state_2 = 1700980091,\n",
      " state_4 = 4092565453,\n",
      " state_8 = 1173829793,\n",
      " state_5 = 2417052508,\n",
      " state_6 = 3389729967,\n",
      " state_1 = 2436150040,\n",
      " state_9 = 2200877280,\n",
      " output_next = 45,\n",
      " output_prev = 4,\n",
      " state_10 = 173405219]\n"
     ]
    }
   ],
   "source": [
    "print(s.model())"
   ]
  },
  {
   "cell_type": "code",
   "execution_count": 17,
   "metadata": {},
   "outputs": [],
   "source": [
    "def break_rand(nums: list, next_num: int):\n",
    "    n_nums = len(nums)\n",
    "    #print(f'len nums: {n_nums}')\n",
    "    \n",
    "    states = {f'state_{i}': z.BitVec(f'state_{i}', 32) for i in range(1, n_nums + 2)}\n",
    "    #print(states)\n",
    "    output_next = z.BitVec('output_next', 32)\n",
    "    \n",
    "    s = z.Solver()\n",
    "    \n",
    "    for i in range(2, n_nums + 2):\n",
    "        s.add(states[f'state_{i}'] == states[f'state_{i - 1}'] * 214013 + 2531011)\n",
    "        \n",
    "    for i in range(1, n_nums + 1):\n",
    "        s.add(z.URem((states[f'state_{i}'] >> 16) & 0x7FFF ,100) == nums[i - 1])\n",
    "        \n",
    "    s.add(output_next == z.URem((states[f'state_{n_nums + 1}'] >> 16) & 0x7FFF ,100))\n",
    "    \n",
    "    #print(s)\n",
    "    \n",
    "    if s.check() == z.sat:\n",
    "        print(f'For the sequence: {nums}, problem is satisfiable')\n",
    "        print(f'We were expecting: {next_num} and got: {s.model()[output_next]}\\n')\n",
    "    else:\n",
    "        print(f'For the sequence: {nums}, problem is unsatisfiable')\n",
    "    \n",
    "    return s, states, output_next"
   ]
  },
  {
   "cell_type": "code",
   "execution_count": 18,
   "metadata": {},
   "outputs": [],
   "source": [
    "random_nums = [4, 54, 63, 79, 13, 55, 76, 11, 14, 45]"
   ]
  },
  {
   "cell_type": "code",
   "execution_count": 19,
   "metadata": {},
   "outputs": [
    {
     "name": "stdout",
     "output_type": "stream",
     "text": [
      "For the sequence: [4, 54, 63], problem is satisfiable\n",
      "We were expecting: 79 and got: 94\n",
      "\n",
      "For the sequence: [4, 54, 63, 79], problem is satisfiable\n",
      "We were expecting: 13 and got: 60\n",
      "\n",
      "For the sequence: [4, 54, 63, 79, 13], problem is satisfiable\n",
      "We were expecting: 55 and got: 55\n",
      "\n",
      "For the sequence: [4, 54, 63, 79, 13, 55], problem is satisfiable\n",
      "We were expecting: 76 and got: 76\n",
      "\n",
      "For the sequence: [4, 54, 63, 79, 13, 55, 76], problem is satisfiable\n",
      "We were expecting: 11 and got: 11\n",
      "\n",
      "For the sequence: [4, 54, 63, 79, 13, 55, 76, 11], problem is satisfiable\n",
      "We were expecting: 14 and got: 14\n",
      "\n",
      "For the sequence: [4, 54, 63, 79, 13, 55, 76, 11, 14], problem is satisfiable\n",
      "We were expecting: 45 and got: 45\n",
      "\n"
     ]
    }
   ],
   "source": [
    "for i in range(3, 10):\n",
    "    break_rand(random_nums[:i], random_nums[i])"
   ]
  },
  {
   "cell_type": "code",
   "execution_count": 20,
   "metadata": {},
   "outputs": [],
   "source": [
    "def enumerate_solutions(nums: list, next_num: int, print_model: bool = False, print_solutions: bool = False):\n",
    "    s, states, output_next = break_rand(nums = nums, next_num = next_num)\n",
    "    \n",
    "    counter = 0\n",
    "    solution_list = []\n",
    "     \n",
    "    while s.check() == z.sat:\n",
    "        counter += 1\n",
    "        solution_list.append(s.model()[output_next].as_long())\n",
    "        \n",
    "        print(f'Solution #{counter}')\n",
    "        if print_model:\n",
    "            print(f'{s.model()}\\n')\n",
    "\n",
    "        # Create constraints using string concatenation\n",
    "        or_expression = 'z.Or('\n",
    "        for i in states.keys():\n",
    "            if i == 'output_next': continue\n",
    "            or_expression += f'states[i] != s.model()[states[i]], '\n",
    "        or_expression += ')'\n",
    "        \n",
    "        s.add(eval(or_expression))\n",
    "        \n",
    "    print(f'Found a total of {counter} solutions')\n",
    "    if print_solutions:\n",
    "        print(f'The solutions are: \\n{solution_list}')\n",
    "        print(f'The solution set is: \\n{set(solution_list)}')"
   ]
  },
  {
   "cell_type": "code",
   "execution_count": 21,
   "metadata": {},
   "outputs": [
    {
     "name": "stdout",
     "output_type": "stream",
     "text": [
      "For the sequence: [4, 54, 63, 79, 13], problem is satisfiable\n",
      "We were expecting: 55 and got: 55\n",
      "\n",
      "Solution #1\n",
      "[state_3 = 1164155474,\n",
      " state_2 = 3848463739,\n",
      " state_1 = 288666392,\n",
      " state_4 = 1945081805,\n",
      " state_5 = 269568860,\n",
      " output_next = 55,\n",
      " state_6 = 1242246319]\n",
      "\n",
      "Solution #2\n",
      "[state_3 = 3311639122,\n",
      " state_2 = 1700980091,\n",
      " state_1 = 2436150040,\n",
      " state_4 = 4092565453,\n",
      " output_next = 55,\n",
      " state_5 = 2417052508,\n",
      " state_6 = 3389729967]\n",
      "\n",
      "Found a total of 2 solutions\n"
     ]
    }
   ],
   "source": [
    "enumerate_solutions(random_nums[:5], random_nums[5], print_model = True)"
   ]
  },
  {
   "cell_type": "code",
   "execution_count": 22,
   "metadata": {},
   "outputs": [
    {
     "name": "stdout",
     "output_type": "stream",
     "text": [
      "For the sequence: [4, 54, 63, 79, 13, 55, 76, 11, 14], problem is satisfiable\n",
      "We were expecting: 45 and got: 45\n",
      "\n",
      "Solution #1\n",
      "[state_7 = 2683344054,\n",
      " state_2 = 3848463739,\n",
      " state_1 = 288666392,\n",
      " state_4 = 1945081805,\n",
      " state_8 = 3321313441,\n",
      " state_3 = 1164155474,\n",
      " state_5 = 269568860,\n",
      " state_6 = 1242246319,\n",
      " state_9 = 53393632,\n",
      " output_next = 45,\n",
      " state_10 = 2320888867]\n",
      "\n",
      "Solution #2\n",
      "[state_7 = 535860406,\n",
      " state_2 = 1700980091,\n",
      " state_1 = 2436150040,\n",
      " state_4 = 4092565453,\n",
      " state_9 = 2200877280,\n",
      " state_8 = 1173829793,\n",
      " state_3 = 3311639122,\n",
      " state_10 = 173405219,\n",
      " output_next = 45,\n",
      " state_5 = 2417052508,\n",
      " state_6 = 3389729967]\n",
      "\n",
      "Found a total of 2 solutions\n"
     ]
    }
   ],
   "source": [
    "enumerate_solutions(random_nums[:9], random_nums[9], print_model=True)"
   ]
  },
  {
   "cell_type": "code",
   "execution_count": 23,
   "metadata": {},
   "outputs": [
    {
     "name": "stdout",
     "output_type": "stream",
     "text": [
      "For the sequence: [4, 54, 63, 79], problem is satisfiable\n",
      "We were expecting: 13 and got: 60\n",
      "\n",
      "Solution #1\n",
      "Solution #2\n",
      "Solution #3\n",
      "Solution #4\n",
      "Solution #5\n",
      "Solution #6\n",
      "Solution #7\n",
      "Solution #8\n",
      "Solution #9\n",
      "Solution #10\n",
      "Solution #11\n",
      "Solution #12\n",
      "Solution #13\n",
      "Solution #14\n",
      "Solution #15\n",
      "Solution #16\n",
      "Solution #17\n",
      "Solution #18\n",
      "Solution #19\n",
      "Solution #20\n",
      "Solution #21\n",
      "Solution #22\n",
      "Solution #23\n",
      "Solution #24\n",
      "Solution #25\n",
      "Solution #26\n",
      "Solution #27\n",
      "Solution #28\n",
      "Solution #29\n",
      "Solution #30\n",
      "Solution #31\n",
      "Solution #32\n",
      "Solution #33\n",
      "Solution #34\n",
      "Solution #35\n",
      "Solution #36\n",
      "Solution #37\n",
      "Solution #38\n",
      "Solution #39\n",
      "Solution #40\n",
      "Found a total of 40 solutions\n",
      "The solutions are: \n",
      "[60, 49, 49, 9, 9, 29, 29, 32, 32, 18, 18, 93, 93, 69, 77, 77, 69, 67, 5, 5, 25, 25, 13, 13, 55, 55, 48, 48, 12, 12, 60, 24, 67, 24, 16, 16, 89, 89, 96, 96]\n",
      "The solution set is: \n",
      "{5, 9, 12, 13, 16, 18, 24, 25, 29, 32, 48, 49, 55, 60, 67, 69, 77, 89, 93, 96}\n"
     ]
    }
   ],
   "source": [
    "enumerate_solutions(random_nums[:4], random_nums[4], print_solutions=True)"
   ]
  },
  {
   "cell_type": "code",
   "execution_count": 24,
   "metadata": {},
   "outputs": [
    {
     "name": "stdout",
     "output_type": "stream",
     "text": [
      "For the sequence: [0, 0, 0, 0], problem is satisfiable\n",
      "We were expecting: 0 and got: 10\n",
      "\n",
      "Solution #1\n",
      "Solution #2\n",
      "Solution #3\n",
      "Solution #4\n",
      "Solution #5\n",
      "Solution #6\n",
      "Solution #7\n",
      "Solution #8\n",
      "Solution #9\n",
      "Solution #10\n",
      "Solution #11\n",
      "Solution #12\n",
      "Solution #13\n",
      "Solution #14\n",
      "Solution #15\n",
      "Solution #16\n",
      "Solution #17\n",
      "Solution #18\n",
      "Solution #19\n",
      "Solution #20\n",
      "Solution #21\n",
      "Solution #22\n",
      "Solution #23\n",
      "Solution #24\n",
      "Solution #25\n",
      "Solution #26\n",
      "Solution #27\n",
      "Solution #28\n",
      "Solution #29\n",
      "Solution #30\n",
      "Solution #31\n",
      "Solution #32\n",
      "Solution #33\n",
      "Solution #34\n",
      "Solution #35\n",
      "Solution #36\n",
      "Solution #37\n",
      "Solution #38\n",
      "Found a total of 38 solutions\n"
     ]
    }
   ],
   "source": [
    "enumerate_solutions([0, 0, 0, 0], 0)"
   ]
  },
  {
   "cell_type": "code",
   "execution_count": 25,
   "metadata": {},
   "outputs": [
    {
     "name": "stdout",
     "output_type": "stream",
     "text": [
      "For the sequence: [0, 0, 0, 0, 0], problem is unsatisfiable\n",
      "Found a total of 0 solutions\n"
     ]
    }
   ],
   "source": [
    "enumerate_solutions([0, 0, 0, 0, 0], 0)"
   ]
  },
  {
   "cell_type": "markdown",
   "metadata": {},
   "source": [
    "__Conclusion__: based on these two experiments, there are 38 initial states (seeds) that result in four successive zeros, while there is __no__ seed that produces five successive zeros."
   ]
  },
   {
   "cell_type": "code",
   "execution_count": 26,
   "metadata": {},
   "outputs": [],
   "source": [
    "try:\n",
    "    import bitstring as bs\n",
    "except ModuleNotFoundError:\n",
    "    !pip install bitstring\n",
    "    import bitstring as bs"
   ]
  },
   {
   "cell_type": "code",
   "execution_count": 27,
   "metadata": {},
   "outputs": [],
   "source": [
    "def make_constraints_next(n_constraints: int, slope: int = 0x5DEECE66D, intercept: int = 0xB, gen_bits = 31):\n",
    "    # Define some constants\n",
    "    addend = z.BitVecVal(intercept, 64)\n",
    "    multiplier = z.BitVecVal(slope, 64)\n",
    "    mask = z.BitVecVal((1 << 48) - 1, 64)\n",
    "    \n",
    "    # Define symbolic variables for the seed variable\n",
    "    seeds = {f'seed_{i}': z.BitVec(f'seed_{i}', 64) for i in range(n_constraints)}\n",
    "\n",
    "    constraints = []\n",
    "    \n",
    "    # Build constraints for the relation in row 175\n",
    "    for i in range(1, n_constraints):\n",
    "        constraints.append(seeds[f'seed_{i}'] == z.simplify((seeds[f'seed_{i-1}'] * multiplier + addend) & mask))\n",
    "        \n",
    "    # Define symbolic variables for the output from next()\n",
    "    next_outputs = {f'next_output_{i}': z.BitVec(f'output{i}', 32) for i in range(1, n_constraints)}\n",
    "    \n",
    "    # Build the constraints for the relation in row 176\n",
    "    for i in range(1, n_constraints):\n",
    "        constraints.append(next_outputs[f'next_output_{i}'] == z.simplify(z.Extract(31, 0, z.LShR(seeds[f'seed_{i}'], 48 - gen_bits))))\n",
    "        \n",
    "    return constraints, seeds, next_outputs\n"
   ]
  },
   {
   "cell_type": "code",
   "execution_count": 28,
   "metadata": {},
   "outputs": [],
   "source": [
    "def find_seed(sequence_length: int, slope: int = 0x5DEECE66D, intercept: int = 0xB):\n",
    "    # Define some constants\n",
    "    addend = z.BitVecVal(intercept, 64)\n",
    "    multiplier = z.BitVecVal(slope, 64)\n",
    "    mask = z.BitVecVal((1 << 48) - 1, 64)\n",
    "    \n",
    "    # Note we're generating an extra constraint\n",
    "    # This is required since we'll be using seed_0 to extract the Random() instantiation value\n",
    "    next_constraints, seeds, next_outputs = make_constraints_next(n_constraints=sequence_length+1, gen_bits=32)\n",
    "    \n",
    "    # Define a symbolic variable that we'll use to get the value that instantiated Random()\n",
    "    original_seed = z.BitVec('original_seed', 64)\n",
    "    \n",
    "    # Build a solver object\n",
    "    s = z.Solver()\n",
    "    \n",
    "    # Build a constraint that relates seed_0 and the value used to instantiate Random()\n",
    "    s.add(seeds[f'seed_0'] == (original_seed ^ multiplier) & mask)\n",
    "    \n",
    "    # Next let's add the constraints we've built for next()\n",
    "    s.add(next_constraints)\n",
    "    \n",
    "    # Lastly, let's return all the objects we've constructed so far   \n",
    "    return s, original_seed, seeds, next_outputs"
   ]
  },
   {
   "cell_type": "code",
   "execution_count": 29,
   "metadata": {},
   "outputs": [],
   "source": [
    "known_ints = [-1460590454, 747279288, -1334692577, -539670452, -501340078, -143413999]"
   ]
  },
   {
   "cell_type": "code",
   "execution_count": 30,
   "metadata": {},
   "outputs": [
    {
     "name": "stdout",
     "output_type": "stream",
     "text": [
      "[seed_0 == (original_seed ^ 25214903917) & 281474976710655,\n",
      " seed_1 ==\n",
      " Concat(0, 11 + 25214903917*Extract(47, 0, seed_0)),\n",
      " seed_2 ==\n",
      " Concat(0, 11 + 25214903917*Extract(47, 0, seed_1)),\n",
      " seed_3 ==\n",
      " Concat(0, 11 + 25214903917*Extract(47, 0, seed_2)),\n",
      " seed_4 ==\n",
      " Concat(0, 11 + 25214903917*Extract(47, 0, seed_3)),\n",
      " seed_5 ==\n",
      " Concat(0, 11 + 25214903917*Extract(47, 0, seed_4)),\n",
      " seed_6 ==\n",
      " Concat(0, 11 + 25214903917*Extract(47, 0, seed_5)),\n",
      " output1 == Extract(47, 16, seed_1),\n",
      " output2 == Extract(47, 16, seed_2),\n",
      " output3 == Extract(47, 16, seed_3),\n",
      " output4 == Extract(47, 16, seed_4),\n",
      " output5 == Extract(47, 16, seed_5),\n",
      " output6 == Extract(47, 16, seed_6),\n",
      " output1 == 2834376842,\n",
      " output2 == 747279288]\n"
     ]
    }
   ],
   "source": [
    "solver, original_seed, seeds, next_ouputs = find_seed(sequence_length=len(known_ints))\n",
    "\n",
    "# Notice: we setup the constraints so that next_outputs_1 is the result of seed_1 since we're using seed_0 for other uses\n",
    "# Consequently, the index in known_ints is smaller by 1 than the index for next_outputs\n",
    "solver.add(next_ouputs[f'next_output_{1}'] == known_ints[0])\n",
    "solver.add(next_ouputs[f'next_output_{2}'] == known_ints[1])\n",
    "\n",
    "# Lets take a look at our constraints before trying to solve them\n",
    "print(solver)"
   ]
  },
  {
   "cell_type": "code",
   "execution_count": 31,
   "metadata": {},
   "outputs": [
    {
     "data": {
      "text/plain": [
       "sat"
      ]
     },
     "execution_count": 31,
     "metadata": {},
     "output_type": "execute_result"
    }
   ],
   "source": [
    "solver.check()"
   ]
  },
   {
   "cell_type": "code",
   "execution_count": 32,
   "metadata": {},
   "outputs": [
    {
     "data": {
      "text/plain": [
       "1337"
      ]
     },
     "execution_count": 32,
     "metadata": {},
     "output_type": "execute_result"
    }
   ],
   "source": [
    "solver.model()[original_seed]"
   ]
  },
    {
   "cell_type": "code",
   "execution_count": 33,
   "metadata": {},
   "outputs": [
    {
     "name": "stdout",
     "output_type": "stream",
     "text": [
      "All assertions passed\n"
     ]
    }
   ],
   "source": [
    "for i, known_int in enumerate(known_ints):\n",
    "    calculated_int = solver.model()[next_ouputs[f'next_output_{i+1}']].as_long()\n",
    "    assert bs.BitArray(uint=calculated_int, length=32).int == known_int\n",
    "print('All assertions passed')"
   ]
  },
   {
   "cell_type": "code",
   "execution_count": 34,
   "metadata": {},
   "outputs": [
    {
     "name": "stdout",
     "output_type": "stream",
     "text": [
      "Trying sequence indices: 0, 1\n",
      "All assertions passed\n",
      "\n",
      "Trying sequence indices: 0, 2\n",
      "All assertions passed\n",
      "\n",
      "Trying sequence indices: 0, 3\n",
      "All assertions passed\n",
      "\n",
      "Trying sequence indices: 0, 4\n",
      "All assertions passed\n",
      "\n",
      "Trying sequence indices: 0, 5\n",
      "All assertions passed\n",
      "\n",
      "Trying sequence indices: 1, 2\n",
      "All assertions passed\n",
      "\n",
      "Trying sequence indices: 1, 3\n",
      "All assertions passed\n",
      "\n",
      "Trying sequence indices: 1, 4\n",
      "All assertions passed\n",
      "\n",
      "Trying sequence indices: 1, 5\n",
      "All assertions passed\n",
      "\n",
      "Trying sequence indices: 2, 3\n",
      "All assertions passed\n",
      "\n",
      "Trying sequence indices: 2, 4\n",
      "All assertions passed\n",
      "\n",
      "Trying sequence indices: 2, 5\n",
      "All assertions passed\n",
      "\n",
      "Trying sequence indices: 3, 4\n",
      "All assertions passed\n",
      "\n",
      "Trying sequence indices: 3, 5\n",
      "All assertions passed\n",
      "\n",
      "Trying sequence indices: 4, 5\n",
      "All assertions passed\n",
      "\n"
     ]
    }
   ],
   "source": [
    "# Generate all possible index pair combinations for known_ints\n",
    "import itertools\n",
    "index_pairs = itertools.combinations(range(len(known_ints)), 2)\n",
    "\n",
    "# Now let's run our algorithm on each pair\n",
    "for i, j in index_pairs:\n",
    "    print(f'Trying sequence indices: {i}, {j}')\n",
    "    # Generate a new solver object\n",
    "    solver, original_seed, seeds, next_ouputs = find_seed(sequence_length=len(known_ints))\n",
    "\n",
    "    # Set constraints for the output\n",
    "    solver.add(next_ouputs[f'next_output_{i+1}'] == known_ints[i])\n",
    "    solver.add(next_ouputs[f'next_output_{j+1}'] == known_ints[j])\n",
    "\n",
    "    assert solver.check() == z.sat\n",
    "    assert solver.model()[original_seed] == 1337\n",
    "    print(f'All assertions passed\\n')"
   ]
  },
   {
   "cell_type": "code",
   "execution_count": 35,
   "metadata": {},
   "outputs": [
    {
     "name": "stdout",
     "output_type": "stream",
     "text": [
      "Looking for 10 unique original_seed values that produce our sequence\n",
      "Found solution #1:\t 0x0000000000000539\n",
      "Found solution #2:\t 0x0100000000000539\n",
      "Found solution #3:\t 0x0200000000000539\n",
      "Found solution #4:\t 0x0300000000000539\n",
      "Found solution #5:\t 0x0002000000000539\n",
      "Found solution #6:\t 0x0202000000000539\n",
      "Found solution #7:\t 0x0102000000000539\n",
      "Found solution #8:\t 0x0302000000000539\n",
      "Found solution #9:\t 0x4000000000000539\n",
      "Found solution #10:\t 0x4002000000000539\n"
     ]
    }
   ],
   "source": [
    "# Generate a new solver object\n",
    "solver, original_seed, seeds, next_ouputs = find_seed(sequence_length=len(known_ints))\n",
    "\n",
    "n_solutions = 10\n",
    "print(f'Looking for {n_solutions} unique original_seed values that produce our sequence')\n",
    "for i in range(n_solutions):\n",
    "    # Set constraints for the output\n",
    "    solver.add(next_ouputs[f'next_output_{1}'] == known_ints[0])\n",
    "    solver.add(next_ouputs[f'next_output_{2}'] == known_ints[1])\n",
    "    \n",
    "    if solver.check() == z.sat:\n",
    "        solution = solver.model()[original_seed].as_long()\n",
    "        solution_hex = bs.BitArray(uint=solution, length=64).hex\n",
    "        print(f'Found solution #{i+1}:\\t 0x{solution_hex}')\n",
    "        \n",
    "        # Invert the solution we found\n",
    "        solver.add(solver.model()[original_seed] != original_seed)"
   ]
  },
   {
   "cell_type": "code",
   "execution_count": 36,
   "metadata": {},
   "outputs": [],
   "source": [
    "def find_seed_nextLong(sequence_length: int, slope: int = 0x5DEECE66D, intercept: int = 0xB):\n",
    "    # Define some constants\n",
    "    addend = z.BitVecVal(intercept, 64)\n",
    "    multiplier = z.BitVecVal(slope, 64)\n",
    "    mask = z.BitVecVal((1 << 48) - 1, 64)\n",
    "    \n",
    "    # Note we're generating double the constraints in the sequence_length + 1\n",
    "    # This is required since we'll be using seed_0 to extract the Random() instantiation value\n",
    "    # Furthermore, each nextLong call consumes two outputs from next()\n",
    "    next_constraints, seeds, next_outputs = make_constraints_next(n_constraints=2*sequence_length+1, gen_bits=32)\n",
    "    \n",
    "    # Define a symbolic variable that we'll use to get the value that instantiated Random()\n",
    "    original_seed = z.BitVec('original_seed', 64)\n",
    "    \n",
    "    # Build a solver object\n",
    "    s = z.Solver()\n",
    "    \n",
    "    # Build a constraint that relates seed_0 and the value used to instantiate Random()\n",
    "    s.add(seeds[f'seed_0'] == (original_seed ^ multiplier) & mask)\n",
    "    \n",
    "    # Next let's add the constraints we've built for next()\n",
    "    s.add(next_constraints)\n",
    "    \n",
    "    # Define symbolic variables for the output from nextLong\n",
    "    # Notice: we're using a symbolic variable of type Int\n",
    "    # Since nextLong does a sum on ints, it's easier to model this using Z3 arithmetic models\n",
    "    # This differs from previous examples where we used BitVec objects exclusively\n",
    "    # Consequently, we'll be using the conversion method BV2Int that takes a BitVec object and turns it into an Int object\n",
    "    nextLong_outputs = {f'nextLong_output_{i}': z.Int(f'nextLong_output_{i}') for i in range(1, sequence_length + 1)}\n",
    "    \n",
    "    # Finally, let's add the constraints for nextLong\n",
    "    for i, j in zip(range(1, sequence_length + 1), range(1, sequence_length * 2 + 1, 2)):\n",
    "        # Notice: we've replaced the bit shift operator in the source with an enquivalent multiplication\n",
    "        # Z3 doesn't support bit shift operations on Int objects\n",
    "        first_next = z.BV2Int(next_outputs[f'next_output_{j}'], is_signed=True) * 2 ** 32\n",
    "        second_next = z.BV2Int(next_outputs[f'next_output_{j+1}'], is_signed=True)\n",
    "        s.add(nextLong_outputs[f'nextLong_output_{i}'] == first_next + second_next)\n",
    "    \n",
    "    # Lastly, let's return all the objects we've constructed so far   \n",
    "    return s, original_seed, nextLong_outputs"
   ]
  },
  {
   "cell_type": "code",
   "execution_count": 37,
   "metadata": {},
   "outputs": [],
   "source": [
    "known_longs = [-6273188232032513096, -5732460968968632244, -2153239239327503087, -1872204974168004231]"
   ]
  },
  {
   "cell_type": "code",
   "execution_count": 38,
   "metadata": {},
   "outputs": [
    {
     "name": "stdout",
     "output_type": "stream",
     "text": [
      "[seed_0 == (original_seed ^ 25214903917) & 281474976710655,\n",
      " seed_1 ==\n",
      " Concat(0, 11 + 25214903917*Extract(47, 0, seed_0)),\n",
      " seed_2 ==\n",
      " Concat(0, 11 + 25214903917*Extract(47, 0, seed_1)),\n",
      " seed_3 ==\n",
      " Concat(0, 11 + 25214903917*Extract(47, 0, seed_2)),\n",
      " seed_4 ==\n",
      " Concat(0, 11 + 25214903917*Extract(47, 0, seed_3)),\n",
      " seed_5 ==\n",
      " Concat(0, 11 + 25214903917*Extract(47, 0, seed_4)),\n",
      " seed_6 ==\n",
      " Concat(0, 11 + 25214903917*Extract(47, 0, seed_5)),\n",
      " seed_7 ==\n",
      " Concat(0, 11 + 25214903917*Extract(47, 0, seed_6)),\n",
      " seed_8 ==\n",
      " Concat(0, 11 + 25214903917*Extract(47, 0, seed_7)),\n",
      " output1 == Extract(47, 16, seed_1),\n",
      " output2 == Extract(47, 16, seed_2),\n",
      " output3 == Extract(47, 16, seed_3),\n",
      " output4 == Extract(47, 16, seed_4),\n",
      " output5 == Extract(47, 16, seed_5),\n",
      " output6 == Extract(47, 16, seed_6),\n",
      " output7 == Extract(47, 16, seed_7),\n",
      " output8 == Extract(47, 16, seed_8),\n",
      " nextLong_output_1 ==\n",
      " If(output1 < 0,\n",
      "    BV2Int(output1) - 4294967296,\n",
      "    BV2Int(output1))*\n",
      " 4294967296 +\n",
      " If(output2 < 0,\n",
      "    BV2Int(output2) - 4294967296,\n",
      "    BV2Int(output2)),\n",
      " nextLong_output_2 ==\n",
      " If(output3 < 0,\n",
      "    BV2Int(output3) - 4294967296,\n",
      "    BV2Int(output3))*\n",
      " 4294967296 +\n",
      " If(output4 < 0,\n",
      "    BV2Int(output4) - 4294967296,\n",
      "    BV2Int(output4)),\n",
      " nextLong_output_3 ==\n",
      " If(output5 < 0,\n",
      "    BV2Int(output5) - 4294967296,\n",
      "    BV2Int(output5))*\n",
      " 4294967296 +\n",
      " If(output6 < 0,\n",
      "    BV2Int(output6) - 4294967296,\n",
      "    BV2Int(output6)),\n",
      " nextLong_output_4 ==\n",
      " If(output7 < 0,\n",
      "    BV2Int(output7) - 4294967296,\n",
      "    BV2Int(output7))*\n",
      " 4294967296 +\n",
      " If(output8 < 0,\n",
      "    BV2Int(output8) - 4294967296,\n",
      "    BV2Int(output8)),\n",
      " nextLong_output_1 == -6273188232032513096]\n"
     ]
    }
   ],
   "source": [
    "solver, original_seed, nextLong_outputs = find_seed_nextLong(sequence_length=len(known_longs))\n",
    "\n",
    "# As mentioned before, we should have enough information in one long to extract the instantiation value\n",
    "solver.add(nextLong_outputs[f'nextLong_output_{1}'] == known_longs[0])\n",
    "\n",
    "# Lets take a look at our constraints before trying to solve them\n",
    "print(solver)"
   ]
  },
  {
   "cell_type": "code",
   "execution_count": 39,
   "metadata": {},
   "outputs": [
    {
     "data": {
      "text/plain": [
       "sat"
      ]
     },
     "execution_count": 39,
     "metadata": {},
     "output_type": "execute_result"
    }
   ],
   "source": [
    "solver.check()"
   ]
  },
  {
   "cell_type": "code",
   "execution_count": 40,
   "metadata": {},
   "outputs": [
    {
     "data": {
      "text/plain": [
       "1337"
      ]
     },
     "execution_count": 40,
     "metadata": {},
     "output_type": "execute_result"
    }
   ],
   "source": [
    "solver.model()[original_seed]"
   ]
  },
  {
   "cell_type": "code",
   "execution_count": 41,
   "metadata": {},
   "outputs": [
    {
     "name": "stdout",
     "output_type": "stream",
     "text": [
      "All assertions passed\n"
     ]
    }
   ],
   "source": [
    "for i, known_long in enumerate(known_longs):\n",
    "    calculated_long = solver.model()[nextLong_outputs[f'nextLong_output_{i+1}']].as_long()\n",
    "    assert calculated_long == known_long\n",
    "print('All assertions passed')"
   ]
  },
   {
   "cell_type": "code",
   "execution_count": 42,
   "metadata": {},
   "outputs": [],
   "source": [
    "url = 'https://10.120.129.80:8443/benchmark/weakrand-00/BenchmarkTest00086?BenchmarkTest00086=SafeText'"
   ]
  },
  {
   "cell_type": "code",
   "execution_count": 43,
   "metadata": {},
   "outputs": [],
   "source": [
    "import asyncio\n",
    "try:\n",
    "    from pyppeteer import launch\n",
    "except ModuleNotFoundError:\n",
    "    !pip install pyppeteer\n",
    "    from pyppeteer import launch"
   ]
  },
  {
   "cell_type": "code",
   "execution_count": 44,
   "metadata": {},
   "outputs": [],
   "source": [
    "async def get_cookie(url: str) -> int:\n",
    "    browser = await launch({'headless': True,\n",
    "                            'args': ['--no-sandbox', '--disable-setuid-sandbox'],\n",
    "                            'ignoreHTTPSErrors': True});\n",
    "    page = await browser.newPage()\n",
    "\n",
    "    await page.goto(url)\n",
    "    elementList = await page.querySelectorAll('form')\n",
    "    button = await elementList[0].querySelectorAll('input')\n",
    "    await button[0].click()\n",
    "\n",
    "    await page.waitForNavigation();\n",
    "\n",
    "    cookies = await page.cookies()\n",
    "\n",
    "    for cookie in cookies:\n",
    "        if cookie['name'] == 'rememberMe00086':\n",
    "            return int(cookie['value'])"
   ]
  },
  {
   "cell_type": "code",
   "execution_count": 45,
   "metadata": {},
   "outputs": [
    {
     "data": {
      "text/plain": [
       "[-8886403976268848760]"
      ]
     },
     "execution_count": 45,
     "metadata": {},
     "output_type": "execute_result"
    }
   ],
   "source": [
    "cookie_nums = []\n",
    "for i in range(1):\n",
    "    cookie_nums.append(await get_cookie(url = url))\n",
    "cookie_nums"
   ]
  },
  {
   "cell_type": "code",
   "execution_count": 46,
   "metadata": {},
   "outputs": [
    {
     "name": "stdout",
     "output_type": "stream",
     "text": [
      "Constraints are: sat\n",
      "Instantiation value is: 75531093912490\n"
     ]
    }
   ],
   "source": [
    "solver, original_seed, nextLong_outputs = find_seed_nextLong(sequence_length=len(known_longs))\n",
    "\n",
    "# As mentioned before, we should have enough information in single long to extract the instantiation value\n",
    "solver.add(nextLong_outputs[f'nextLong_output_{1}'] == cookie_nums[0])\n",
    "\n",
    "# Check if satisfiable\n",
    "print(f'Constraints are: {solver.check()}')\n",
    "\n",
    "# Extract seed\n",
    "print(f'Instantiation value is: {solver.model()[original_seed]}')"
   ]
  }
  
 ],
 "metadata": {
  "kernelspec": {
   "display_name": "Python 3",
   "language": "python",
   "name": "python3"
  },
  "language_info": {
   "codemirror_mode": {
    "name": "ipython",
    "version": 3
   },
   "file_extension": ".py",
   "mimetype": "text/x-python",
   "name": "python",
   "nbconvert_exporter": "python",
   "pygments_lexer": "ipython3",
   "version": "3.7.3"
  }
 },
 "nbformat": 4,
 "nbformat_minor": 2
}
