{
 "cells": [
  {
   "cell_type": "markdown",
   "metadata": {},
   "source": [
    "# Introduction\n",
    "This post introduces Z3; an MIT licensed SMT solver from Microsoft Research. We'll discuss some typical uses of SMT solvers, show how to generate constraints using Z3's Python bindings and provide an example for the use of this technology for WebApp security.\n",
    "\n",
    "SMT solvers find use in a wide range of fields. The approach was applied to everything from predicting genomic regulatory logic (see [The Varied Forms of Verification with Z3](https://www.youtube.com/watch?v=wHSmAThRBHg) by Microsoft Research for an overview of Z3 applications)  to [designing microfluidic systems](https://www.researchgate.net/publication/266657230_Exact_One-pass_Synthesis_of_Digital_Microfluidic_Biochips) and [validating cloud network configurations](https://www.microsoft.com/en-us/research/wp-content/uploads/2016/02/nbjorner-icdcit2015.pdf). Essentially, SMT solvers provide a formal approach to exploring and reasoning about complex, inter-dependent systems.\n",
    "\n",
    "One important application of SMT solvers is formal verification, e.g., symbolic execution of software, input analysis, and security testing. Some actively-maintained tools in this category include SAGE from Microsoft Research, KLEE, S2E, and Triton. SMT solvers that are particularly useful for symbolic-execution applications include Z3, STP, Z3str2, and Boolector.\n",
    "\n",
    "This post is structured as a set of three tutorials. The first part contains an introduction to Z3's Python bindings and demonstrates how to generate constraints and solve them. The second part introduces the concept of a Linear Congruential Generator and demonstrates how Z3 can be used to predict PRNG output. Finally, the third part extends the model used in the second section to demonstrate real-world use of the approach using OWASP Benchmark.\n",
    "\n",
    "Note on running these examples: Z3 is non-trivial to install. As such, we recommend using the Dockerfile available [here](https://github.com/stklik/scipy-notebook-z3) to set up Z3 with Jupyter notebook and all required dependencies."
   ]
  },
  {
   "cell_type": "markdown",
   "metadata": {},
   "source": [
    "# Part 1 - Introducing Z3\n",
    "Before we delve into more complex problems, we'll demonstrate how to model a mathematical riddle. During this section, we'll be somewhat verbose in describing the logic and execution flow. We aim to familiarize the reader with developing constraints using Z3's Python bindings. As such, feel free to skip to part 2 if you're familiar with Z3.\n",
    "\n",
    "As our toy problem, we'll use a typical programming riddle: write a function that accepts two parameters N & n and returns a boolean. The function checks if there are n consecutive, natural numbers (excluding zero) so that $ \\sum_{i=1}^n a_i = N$.\n",
    "\n",
    "If you remember your arithmetic progressions, the sum can be calculated using Gauss's trick:\n",
    "\n"
   ]
  },
  {
   "cell_type": "markdown",
   "metadata": {},
   "source": [
    "$$N = \\frac{(a_1 + a_n) \\times n}{2}$$\n"
   ]
  },
  {
   "cell_type": "markdown",
   "metadata": {},
   "source": [
    "Or in our simplified case:"
   ]
  },
  {
   "cell_type": "markdown",
   "metadata": {},
   "source": [
    "$$N = \\frac{(a_1 + (a_1 + 1 \\times (n -1))) \\times n}{2}$$"
   ]
  },
  {
   "cell_type": "markdown",
   "metadata": {},
   "source": [
    "$$2 \\times N = (a_1 + (a_1 + 1 \\times (n -1))) \\times n$$"
   ]
  },
  {
   "cell_type": "markdown",
   "metadata": {},
   "source": [
    "$$\\frac{N}{n} - \\frac{n -1}{2} = a_1$$"
   ]
  },
  {
   "cell_type": "markdown",
   "metadata": {},
   "source": [
    "Using this formula, we can calculate a candidate for a1. If our candidate is a natural number, the function should return true. Otherwise, it should be false. The code for this problem, while simple, requires some derivation (and actually remembering Gauss's trick). \n",
    "\n",
    "Now let's think about this problem as a system of constraints. Obviously, our first constraint is:\n",
    "\t$$n_{i+1} = n_i + 1$$\n",
    "Additionally, we should have a constraint for the sum:\n",
    "\t$$ \\sum_{i=1}^n a_i = N$$\n",
    "\n",
    "Let's translate these constraints into a Z3 model:"
   ]
  },
  {
   "cell_type": "code",
   "execution_count": 1,
   "metadata": {},
   "outputs": [],
   "source": [
    "import z3 as z\n",
    "z.set_param('parallel.enable', False)"
   ]
  },
  {
   "cell_type": "markdown",
   "metadata": {},
   "source": [
    "First, let's define our goals:"
   ]
  },
  {
   "cell_type": "code",
   "execution_count": 2,
   "metadata": {},
   "outputs": [],
   "source": [
    "n = 3\n",
    "N = 1050"
   ]
  },
  {
   "cell_type": "markdown",
   "metadata": {},
   "source": [
    "Next, we'll generate some symbolic variables. Symbolic variables (as opposed to concrete variables, which we'll use later) act as placeholders. They behave like a typing mechanism for Z3 and help it choose suitable solution strategies. Furthermore, as long as the model is satisfiable, symbolic variables can be used to extract concrete values from a model.\n",
    "\n",
    "Note the use of list comprehension (later we'll be using dictionary comprehension extensively) and f-strings to generate multiple symbolic variables with unique names."
   ]
  },
  {
   "cell_type": "code",
   "execution_count": 3,
   "metadata": {},
   "outputs": [],
   "source": [
    "ints = [z.Int(f'int_{i}') for i in range(n)]"
   ]
  },
  {
   "cell_type": "markdown",
   "metadata": {},
   "source": [
    "Now we'll instantiate a solver object. The solver object takes constraints and tries to satisfy them. The solver can be tweaked with specific strategies, given intermediate goals, and acts as the front-end to Z3. To solve our problem, we'll set (in SAT solver lingo, we assert) three constraints:\n",
    "1. $a_0,\\, ...,\\, a_{n-1} \\in \\mathbb{N}$ - allow only (non-zero) natural numbers in the solution\n",
    "2. $n_{i+1} = n_i + 1$ - numbers must be consecutive\n",
    "3. $ \\sum_{i=1}^n a_i = N$ - the sum of the numbers must be equal to N, as per the problem definition."
   ]
  },
  {
   "cell_type": "code",
   "execution_count": 4,
   "metadata": {},
   "outputs": [],
   "source": [
    "s = z.Solver()\n",
    "\n",
    "for i in range(n-1):\n",
    "    # Constraint #1\n",
    "    s.add(ints[i] > 0)\n",
    "    # Constraint #2\n",
    "    s.add(ints[i+1] == ints[i] + 1)\n",
    "\n",
    "# Constraint #3\n",
    "s.add(z.Sum(ints) == N)"
   ]
  },
  {
   "cell_type": "markdown",
   "metadata": {},
   "source": [
    "Finally, we'll use the check() method of our solver object to test the satisfiability of our constraints. The check() method returns one of the following responses: sat, unsat, infeasible, or unknown. Our problem is quite small (in terms of the number of constraints) so we're only going to get sat/unsat."
   ]
  },
  {
   "cell_type": "code",
   "execution_count": 5,
   "metadata": {},
   "outputs": [
    {
     "name": "stdout",
     "output_type": "stream",
     "text": [
      "Found a solution\n",
      "(3 terms) 349 + ... + 351 == 1050\n"
     ]
    }
   ],
   "source": [
    "if s.check() == z.sat:\n",
    "    m = s.model()\n",
    "    print('Found a solution')\n",
    "    print(f'({n} terms) {m[ints[0]].as_long()} + ... + {m[ints[n -1]].as_long()} == {N}')\n",
    "else:\n",
    "    print(f'Finding {n} consecutive integers with a sum of {N} is unsatisfiable')"
   ]
  },
  {
   "cell_type": "markdown",
   "metadata": {},
   "source": [
    "As can be seen above, the constraints are satisfiable. Notice our use of the model() method to get the model object. We then use our symbolic variables to extract concrete values from the model object using the as_long() method.\n",
    "\n",
    "Next, we'll generalize our model and show it can be used to ask a somewhat more complex question. \n",
    "\n",
    "Notice: our implementation returns the solver object. We consider returning solvers good practice since it allows us to encapsulate constraint construction. The solver can later be used to add additional constraints to describe more complex models."
   ]
  },
  {
   "cell_type": "code",
   "execution_count": 6,
   "metadata": {},
   "outputs": [],
   "source": [
    "def build_solver(n: int, N: int):\n",
    "    # Create symbolic variables\n",
    "    ints = [z.Int(f'int{i}') for i in range(n)]\n",
    "    \n",
    "    # Instantiate a solver\n",
    "    s = z.Solver()\n",
    "    \n",
    "    for i in range(n-1):\n",
    "        # Consecutive numbers\n",
    "        s.add(ints[i+1] == ints[i] + 1)\n",
    "        # Non-zero natural numbers\n",
    "        s.add(ints[i] > 0)\n",
    "    \n",
    "    # Sum\n",
    "    s.add(z.Sum(ints) == N)\n",
    "    \n",
    "    return s"
   ]
  },
  {
   "cell_type": "markdown",
   "metadata": {},
   "source": [
    "Using this method, we can seamlessly generate a solver object. Another reason why returning a solver object is good practice is that it lets us inspect our constraints, add additional constraints, force solution strategies, etcetera:"
   ]
  },
  {
   "cell_type": "code",
   "execution_count": 7,
   "metadata": {},
   "outputs": [
    {
     "name": "stdout",
     "output_type": "stream",
     "text": [
      "[int1 == int0 + 1,\n",
      " int0 > 0,\n",
      " int2 == int1 + 1,\n",
      " int1 > 0,\n",
      " int0 + int1 + int2 == 1337]\n"
     ]
    }
   ],
   "source": [
    "s = build_solver(n = 3, N = 1337)\n",
    "print(s)"
   ]
  },
  {
   "cell_type": "markdown",
   "metadata": {},
   "source": [
    "Using this approach, we can check if sets of model inputs are satisfiable. For example, below we're exploring the solution space for N = 1337:"
   ]
  },
  {
   "cell_type": "code",
   "execution_count": 8,
   "metadata": {},
   "outputs": [
    {
     "name": "stdout",
     "output_type": "stream",
     "text": [
      "Sum 1337 is unsat with 3 integers\n",
      "Sum 1337 is unsat with 4 integers\n",
      "Sum 1337 is unsat with 5 integers\n",
      "Sum 1337 is unsat with 6 integers\n",
      "Sum 1337 is sat with 7 integers\n",
      "Sum 1337 is unsat with 8 integers\n",
      "Sum 1337 is unsat with 9 integers\n"
     ]
    }
   ],
   "source": [
    "for i in range(3, 10):\n",
    "    print(f'Sum 1337 is {build_solver(n = i, N = 1337).check()} with {i} integers')"
   ]
  },
  {
   "cell_type": "markdown",
   "metadata": {},
   "source": [
    "__Summery__: this section introduces Z3 and basic model construction. We demonstrated how to formulate a mathematical problem as a set of constraints, encapsulate the model construction logic into a function and explored the solution space of the problem. In the following section, we'll demonstrate how Z3 can be used to model an algorithm and using the solver object extract (supposedly) hidden internal states."
   ]
  },
  {
   "cell_type": "markdown",
   "metadata": {},
   "source": [
    "# Part 2 - Modeling a PRNG Algorithm\n",
    "After familiarizing ourselves with the basic trappings of Z3, let's try to apply these skills to a real-world algorithm. During this example we'll: \n",
    "\n",
    "* Describe the workings of a popular Pseudo-Random Number Generator (PRNG); the Linear Congruential Generator (LCG)\n",
    "* Develop a function that symbolically executes an LCG using Z3\n",
    "* Predict the next value in a sequence LCG generated numbers\n",
    "* Extract the value generated before a known sequence of LCG generated numbers\n",
    "* Extract the seed used to instantiate the PRNG\n",
    "\n",
    "## Linear Congruential Generators (LCGs)\n",
    "This class of functions generates numbers that have __some__ properties of random numbers (hence pseudo-random). An LCG is a recurrent relation where the initial value (known as a \"seed\") goes through mathematical manipulations which produce a new number. The new number becomes the seed used in the next call to the function. This approach is fast, and as long as the parameters (more about them in the next section) are chosen carefully, it can pass some statistical tests for randomness.\n",
    "\n",
    "For a short intro about LCGs and their limitations take a look at the Wikipedia page about [Linear Congruential Generators](https://en.wikipedia.org/wiki/Linear_congruential_generator#Advantages_and_disadvantages)\n",
    "\n",
    " A typical LCG  generates a number by performing the following steps:\n",
    "\n",
    "* Multiply seed by a magic number\n",
    "* Add another magic number to the result of the multiplication\n",
    "* Take the modulus of the result with a third magic number\n",
    "\n",
    "Consequently, the choice of magic numbers for the algorithm is of paramount importance. Poor choice of these parameters can produce strong attractors. Attractors are a feature of dynamical systems where perturbation of the input leads to little or no change in the output (more on attractors can be found [here](https://en.wikipedia.org/wiki/Attractor)). An example of poor parameter choice can be seen below, where there is a simple multiplication relation between the modulus and the multiplicand. This choice results in strong attractors and short periods (number of calls to the function until a number is repeated)."
   ]
  },
  {
   "cell_type": "markdown",
   "metadata": {},
   "source": [
    "                image1               image2"
   ]
  },
  {
   "cell_type": "markdown",
   "metadata": {},
   "source": [
    "The value on the X-axis in these images represents how many numbers were generated & the Y-axis represents the generated number. For a seed value of 532 (left image), we see the behavior of a strong attractor. Necessarily, if we use these parameters and generate the value 532, all the following values will be 0. Alternatively, for a seed value of 580 (right image), we see an example of short periodicity. If the value 580 gets generated, all the following numbers will have four distinct values. As such, the choice of weak magic numbers leads to low-quality pseudo-random numbers.\n",
    "\n",
    "## Implementation of rand() in MSVC 2013\n",
    "The algorithm used to implement rand() in MSVC 2013 is a good example of a simple LCG:\n",
    "\n",
    "    static unsigned long int next = 1;\n",
    "\n",
    "    int rand(void)  /* RAND_MAX assumed to be 32767. */\n",
    "    {\n",
    "        next = next * 214013 + 2531011;\n",
    "        return (unsigned)(next/65536) % 32768;\n",
    "    }\n",
    "\n",
    "Based on this snippet, we'd like to generate constraints that simulate the algorithm using Z3. Specifically, we're interested in the following questions, assuming we have a sequence of numbers generated by the algorithm:\n",
    "\n",
    "* Can we predict the next value in the sequence?\n",
    "* Can we calculate the previous number in the sequence?\n",
    "* What's the shortest sequence we need to supply Z3 to predict the next number in the sequence correctly?\n",
    "* Are the solutions unique? Can we find additional internal states that satisfy our constraints?\n",
    "\n",
    "Now let's assume we ran rand() 10 times and got the following set of numbers:\n",
    "\t4, 54, 63, 79, 13, 55, 76, 11, 14, 45\n",
    "\n",
    "Let's construct the constraints required to simulate rand() and answer the above questions.\n",
    "__Note__: numbers were generated by printing rand() % 100 to constrain the numbers to the [0, 100) range. The seed used to initialize the function was 1337.\n",
    "\n",
    "## Simulating rand() using Z3\n",
    "In this example, we'll start using bit vector (BitVec) objects. These objects are symbolic representations of the way data is stored in memory and require a definition of their size. Using bit-vectors allows us to make use of bitwise operators, which we'll be utilizing extensively in the next example. In this example, we'll use bit-shifting & the 'bitwise and' operators to represent the division and modulus operations.\n",
    "\n",
    "We'll start by defining some symbolic variables. We'll define two variables (output_prev, output_next) to represent the numbers generated before and after the sequence. Besides, we'll define 10 state_# variables to represent the 'next' variable in the code snippet. Notice the use of dictionary comprehension to generate the state_# variables. Using dictionaries is a useful pattern to hold a large number of symbolic variables in an accessible manner."
   ]
  },
  {
   "cell_type": "code",
   "execution_count": 9,
   "metadata": {},
   "outputs": [
    {
     "name": "stdout",
     "output_type": "stream",
     "text": [
      "<class 'z3.z3.BitVecRef'>\n"
     ]
    }
   ],
   "source": [
    "output_prev = z.BitVec('output_prev', 32)\n",
    "states = {f'state_{i}': z.BitVec(f'state_{i}', 32) for i in range(1, 11)}\n",
    "output_next = z.BitVec('output_next', 32)\n",
    "\n",
    "print(type(states['state_1']))"
   ]
  },
  {
   "cell_type": "markdown",
   "metadata": {},
   "source": [
    "Instantiate the solver"
   ]
  },
  {
   "cell_type": "code",
   "execution_count": 10,
   "metadata": {},
   "outputs": [],
   "source": [
    "s = z.Solver()"
   ]
  },
  {
   "cell_type": "markdown",
   "metadata": {},
   "source": [
    "Now let's start adding the problem constraints. Our 1st constraint is that the sequence of numbers was generated by sequential calls to rand(), therefore:\n",
    "\n",
    "$${state\\_2} = {state\\_1} \\times 214013 + 2531011$$\n",
    "$${state\\_3} = {state\\_2} \\times 214013 + 2531011$$\n",
    "$$...$$\n",
    "$${state\\_10} = {state\\_9} \\times 214013 + 2531011$$"
   ]
  },
  {
   "cell_type": "code",
   "execution_count": 11,
   "metadata": {},
   "outputs": [
    {
     "name": "stdout",
     "output_type": "stream",
     "text": [
      "[state_2 == state_1*214013 + 2531011,\n",
      " state_3 == state_2*214013 + 2531011,\n",
      " state_4 == state_3*214013 + 2531011,\n",
      " state_5 == state_4*214013 + 2531011,\n",
      " state_6 == state_5*214013 + 2531011,\n",
      " state_7 == state_6*214013 + 2531011,\n",
      " state_8 == state_7*214013 + 2531011,\n",
      " state_9 == state_8*214013 + 2531011,\n",
      " state_10 == state_9*214013 + 2531011]\n"
     ]
    }
   ],
   "source": [
    "for i in range(2, 11):\n",
    "    s.add(states[f'state_{i}'] == states[f'state_{i - 1}'] * 214013 + 2531011)\n",
    "\n",
    "print(s)"
   ]
  },
  {
   "cell_type": "markdown",
   "metadata": {},
   "source": [
    "Our 2nd constraint represents the values we got for the 10 numbers (ground truth). Specifically, we'll be simulating the return statement. In the example, we'll demonstrate the use of bit-wise operations, to show how Z3 based bit-wise operations and Python-based bit-wise operations can be used interchangeably in some cases:\n",
    "\n",
    "* Each state is divided by 65536 (equivalent to shifting 16 bits to the right) \n",
    "* Then we take a remainder of dividing it by 32768 (equivalent to doing n & 0x7FFF)\n",
    "* Lastly, this reminder % 100 should be equal to each number in our set\n",
    "\n",
    "Therefore: \n",
    "$$((state\\_1 / 65536)\\,\\, \\% \\,\\, 32768)\\,\\, \\% \\,\\, 100 = ((state\\_1 >> 16)\\,\\, \\& \\,\\, 0x7FFF)\\,\\, \\% \\,\\, 100 = 37$$\n",
    "$$...$$\n",
    "$$((state\\_10 / 65536)\\,\\, \\% \\,\\, 32768)\\,\\, \\% \\,\\, 100 = ((state\\_10 >> 16)\\,\\, \\& \\,\\, 0x7FFF)\\,\\, \\% \\,\\, 100 = 37$$\n",
    "\n",
    "Notice how we construct the constraint with a mix of python and Z3 based bitwise operations. Z3 provides facilities for bitwise operations, but it's useful to know that using them is not obligatory. One specific case where Z3 bitwise operations are preferred is when signedness is essential. For example, in our case, we're interested in the unsigned modulo, for which Z3 provides the URem method. "
   ]
  },
  {
   "cell_type": "code",
   "execution_count": 12,
   "metadata": {},
   "outputs": [],
   "source": [
    "random_nums = [4, 54, 63, 79, 13, 55, 76, 11, 14, 45]\n",
    "\n",
    "for i in range(2, 10):\n",
    "    s.add(z.URem((states[f'state_{i}'] >> 16) & 0x7FFF ,100) == random_nums[i - 1])"
   ]
  },
  {
   "cell_type": "markdown",
   "metadata": {},
   "source": [
    "Lastly, we'll set the constraints for the next and previous number in the series:"
   ]
  },
  {
   "cell_type": "code",
   "execution_count": 13,
   "metadata": {},
   "outputs": [],
   "source": [
    "s.add(output_prev == z.URem((states['state_1'] >> 16) & 0x7FFF ,100))\n",
    "s.add(output_next == z.URem((states['state_10'] >> 16) & 0x7FFF ,100))"
   ]
  },
  {
   "cell_type": "markdown",
   "metadata": {},
   "source": [
    "Let's now take a look at our complete model:"
   ]
  },
  {
   "cell_type": "code",
   "execution_count": 14,
   "metadata": {},
   "outputs": [
    {
     "name": "stdout",
     "output_type": "stream",
     "text": [
      "[state_2 == state_1*214013 + 2531011,\n",
      " state_3 == state_2*214013 + 2531011,\n",
      " state_4 == state_3*214013 + 2531011,\n",
      " state_5 == state_4*214013 + 2531011,\n",
      " state_6 == state_5*214013 + 2531011,\n",
      " state_7 == state_6*214013 + 2531011,\n",
      " state_8 == state_7*214013 + 2531011,\n",
      " state_9 == state_8*214013 + 2531011,\n",
      " state_10 == state_9*214013 + 2531011,\n",
      " URem(state_2 >> 16 & 32767, 100) == 54,\n",
      " URem(state_3 >> 16 & 32767, 100) == 63,\n",
      " URem(state_4 >> 16 & 32767, 100) == 79,\n",
      " URem(state_5 >> 16 & 32767, 100) == 13,\n",
      " URem(state_6 >> 16 & 32767, 100) == 55,\n",
      " URem(state_7 >> 16 & 32767, 100) == 76,\n",
      " URem(state_8 >> 16 & 32767, 100) == 11,\n",
      " URem(state_9 >> 16 & 32767, 100) == 14,\n",
      " output_prev == URem(state_1 >> 16 & 32767, 100),\n",
      " output_next == URem(state_10 >> 16 & 32767, 100)]\n"
     ]
    }
   ],
   "source": [
    "print(s)"
   ]
  },
  {
   "cell_type": "markdown",
   "metadata": {},
   "source": [
    "In summary, we started with a sequence of 10 generated numbers. We constructed a set of constraints that simulate the operations of the rand() function. We used the middle 8 numbers in the sequence to set constraints on the internal states of the function. Lastly, we set constraints on the output_next and output_previous symbolic variables. If our constraints are satisfiable, these two variables should hold the same values as the first and last numbers in the generated sequence. Let's check:"
   ]
  },
  {
   "cell_type": "code",
   "execution_count": 15,
   "metadata": {},
   "outputs": [
    {
     "name": "stdout",
     "output_type": "stream",
     "text": [
      "sat\n"
     ]
    }
   ],
   "source": [
    "print(s.check())"
   ]
  },
  {
   "cell_type": "code",
   "execution_count": 16,
   "metadata": {},
   "outputs": [
    {
     "name": "stdout",
     "output_type": "stream",
     "text": [
      "[state_3 = 3311639122,\n",
      " state_7 = 535860406,\n",
      " state_2 = 1700980091,\n",
      " state_4 = 4092565453,\n",
      " state_8 = 1173829793,\n",
      " state_5 = 2417052508,\n",
      " state_6 = 3389729967,\n",
      " state_1 = 2436150040,\n",
      " state_9 = 2200877280,\n",
      " output_next = 45,\n",
      " output_prev = 4,\n",
      " state_10 = 173405219]\n"
     ]
    }
   ],
   "source": [
    "print(s.model())"
   ]
  },
  {
   "cell_type": "markdown",
   "metadata": {},
   "source": [
    "__Conclusion__: using a set of constraints that we derived from the source code, we were able to predict the next number in a sequence. Furthermore, we were able to calculate the number preceding a sequence.\n",
    "\n",
    "## Exploring the solution space of our rand() model\n",
    "Next, let's try to find the minimum amount of values required to predict the output of the next call to rand(). To do that, we'll wrap the logic described above in a function. This function two parameters; a list of numbers and the next number in the sequence. The function generates a relevant number of constraints and checks their satisfiability. If the model is satisfiable, it prints the calculated and expected next number in the sequence."
   ]
  },
  {
   "cell_type": "code",
   "execution_count": 17,
   "metadata": {},
   "outputs": [],
   "source": [
    "def break_rand(nums: list, next_num: int):\n",
    "    n_nums = len(nums)\n",
    "    #print(f'len nums: {n_nums}')\n",
    "    \n",
    "    states = {f'state_{i}': z.BitVec(f'state_{i}', 32) for i in range(1, n_nums + 2)}\n",
    "    #print(states)\n",
    "    output_next = z.BitVec('output_next', 32)\n",
    "    \n",
    "    s = z.Solver()\n",
    "    \n",
    "    for i in range(2, n_nums + 2):\n",
    "        s.add(states[f'state_{i}'] == states[f'state_{i - 1}'] * 214013 + 2531011)\n",
    "        \n",
    "    for i in range(1, n_nums + 1):\n",
    "        s.add(z.URem((states[f'state_{i}'] >> 16) & 0x7FFF ,100) == nums[i - 1])\n",
    "        \n",
    "    s.add(output_next == z.URem((states[f'state_{n_nums + 1}'] >> 16) & 0x7FFF ,100))\n",
    "    \n",
    "    #print(s)\n",
    "    \n",
    "    if s.check() == z.sat:\n",
    "        print(f'For the sequence: {nums}, problem is satisfiable')\n",
    "        print(f'We were expecting: {next_num} and got: {s.model()[output_next]}\\n')\n",
    "    else:\n",
    "        print(f'For the sequence: {nums}, problem is unsatisfiable')\n",
    "    \n",
    "    return s, states, output_next"
   ]
  },
  {
   "cell_type": "code",
   "execution_count": 18,
   "metadata": {},
   "outputs": [],
   "source": [
    "random_nums = [4, 54, 63, 79, 13, 55, 76, 11, 14, 45]"
   ]
  },
  {
   "cell_type": "code",
   "execution_count": 19,
   "metadata": {},
   "outputs": [
    {
     "name": "stdout",
     "output_type": "stream",
     "text": [
      "For the sequence: [4, 54, 63], problem is satisfiable\n",
      "We were expecting: 79 and got: 94\n",
      "\n",
      "For the sequence: [4, 54, 63, 79], problem is satisfiable\n",
      "We were expecting: 13 and got: 60\n",
      "\n",
      "For the sequence: [4, 54, 63, 79, 13], problem is satisfiable\n",
      "We were expecting: 55 and got: 55\n",
      "\n",
      "For the sequence: [4, 54, 63, 79, 13, 55], problem is satisfiable\n",
      "We were expecting: 76 and got: 76\n",
      "\n",
      "For the sequence: [4, 54, 63, 79, 13, 55, 76], problem is satisfiable\n",
      "We were expecting: 11 and got: 11\n",
      "\n",
      "For the sequence: [4, 54, 63, 79, 13, 55, 76, 11], problem is satisfiable\n",
      "We were expecting: 14 and got: 14\n",
      "\n",
      "For the sequence: [4, 54, 63, 79, 13, 55, 76, 11, 14], problem is satisfiable\n",
      "We were expecting: 45 and got: 45\n",
      "\n"
     ]
    }
   ],
   "source": [
    "for i in range(3, 10):\n",
    "    break_rand(random_nums[:i], random_nums[i])"
   ]
  },
  {
   "cell_type": "markdown",
   "metadata": {},
   "source": [
    "__Conclusion__: in all cases, we were able to find a solution satisfying the constraints. While the constraints are satisfiable, notice the first two results above; where the constraints are satisfiable whereas the predicted next number is the wrong number. This result demonstrates that model satisfiability does not imply uniqueness. When solving a system of constraints, Z3 returns the first solution it finds, which, in our case, produces the wrong number in the sequence. That notwithstanding, when we supply the solver five or more numbers, it consistently predicts the correct next number in the sequence. Another conclusion we can infer from these results is that for a sequence of three and four numbers, there are __at least__ two distinct internal states that generate these numbers. Different internal states produce different sequences while maintaining the first three or four numbers. \n",
    "\n",
    "Next, we'd like to try to enumerate all the solutions that satisfy our constraints. Enumerating solutions allows us to gauge the uniqueness of our solutions.\n",
    "\n",
    "## Enumerating solutions\n",
    "In this section we'll try to enumerate all possible solutions that satisfy our constraints. To do that, we'll use the solver object and add negation constraints for the solutions we already found. Namely:\n",
    "\n",
    "$$state\\_1,\\,\\, ... ,\\,\\,state\\_n \\ne solution[state\\_1],\\,\\, ... ,\\,\\,solution[state\\_n]$$\n",
    "    \n",
    "To automate this experiment, we'll define a function that repeatedly tries to find solutions using the solver object. Every time the solver finds a distinct set of internal states that solve the constraints, we add the found values to a list of forbidden values. Notice our use of the Or() and eval() as an alternative way of building constraints."
   ]
  },
  {
   "cell_type": "code",
   "execution_count": 20,
   "metadata": {},
   "outputs": [],
   "source": [
    "def enumerate_solutions(nums: list, next_num: int, print_model: bool = False, print_solutions: bool = False):\n",
    "    s, states, output_next = break_rand(nums = nums, next_num = next_num)\n",
    "    \n",
    "    counter = 0\n",
    "    solution_list = []\n",
    "     \n",
    "    while s.check() == z.sat:\n",
    "        counter += 1\n",
    "        solution_list.append(s.model()[output_next].as_long())\n",
    "        \n",
    "        print(f'Solution #{counter}')\n",
    "        if print_model:\n",
    "            print(f'{s.model()}\\n')\n",
    "\n",
    "        # Create constraints using string concatenation\n",
    "        or_expression = 'z.Or('\n",
    "        for i in states.keys():\n",
    "            if i == 'output_next': continue\n",
    "            or_expression += f'states[i] != s.model()[states[i]], '\n",
    "        or_expression += ')'\n",
    "        \n",
    "        s.add(eval(or_expression))\n",
    "        \n",
    "    print(f'Found a total of {counter} solutions')\n",
    "    if print_solutions:\n",
    "        print(f'The solutions are: \\n{solution_list}')\n",
    "        print(f'The solution set is: \\n{set(solution_list)}')"
   ]
  },
  {
   "cell_type": "code",
   "execution_count": 21,
   "metadata": {},
   "outputs": [
    {
     "name": "stdout",
     "output_type": "stream",
     "text": [
      "For the sequence: [4, 54, 63, 79, 13], problem is satisfiable\n",
      "We were expecting: 55 and got: 55\n",
      "\n",
      "Solution #1\n",
      "[state_3 = 1164155474,\n",
      " state_2 = 3848463739,\n",
      " state_1 = 288666392,\n",
      " state_4 = 1945081805,\n",
      " state_5 = 269568860,\n",
      " output_next = 55,\n",
      " state_6 = 1242246319]\n",
      "\n",
      "Solution #2\n",
      "[state_3 = 3311639122,\n",
      " state_2 = 1700980091,\n",
      " state_1 = 2436150040,\n",
      " state_4 = 4092565453,\n",
      " output_next = 55,\n",
      " state_5 = 2417052508,\n",
      " state_6 = 3389729967]\n",
      "\n",
      "Found a total of 2 solutions\n"
     ]
    }
   ],
   "source": [
    "enumerate_solutions(random_nums[:5], random_nums[5], print_model = True)"
   ]
  },
  {
   "cell_type": "code",
   "execution_count": 22,
   "metadata": {},
   "outputs": [
    {
     "name": "stdout",
     "output_type": "stream",
     "text": [
      "For the sequence: [4, 54, 63, 79, 13, 55, 76, 11, 14], problem is satisfiable\n",
      "We were expecting: 45 and got: 45\n",
      "\n",
      "Solution #1\n",
      "[state_7 = 2683344054,\n",
      " state_2 = 3848463739,\n",
      " state_1 = 288666392,\n",
      " state_4 = 1945081805,\n",
      " state_8 = 3321313441,\n",
      " state_3 = 1164155474,\n",
      " state_5 = 269568860,\n",
      " state_6 = 1242246319,\n",
      " state_9 = 53393632,\n",
      " output_next = 45,\n",
      " state_10 = 2320888867]\n",
      "\n",
      "Solution #2\n",
      "[state_7 = 535860406,\n",
      " state_2 = 1700980091,\n",
      " state_1 = 2436150040,\n",
      " state_4 = 4092565453,\n",
      " state_9 = 2200877280,\n",
      " state_8 = 1173829793,\n",
      " state_3 = 3311639122,\n",
      " state_10 = 173405219,\n",
      " output_next = 45,\n",
      " state_5 = 2417052508,\n",
      " state_6 = 3389729967]\n",
      "\n",
      "Found a total of 2 solutions\n"
     ]
    }
   ],
   "source": [
    "enumerate_solutions(random_nums[:9], random_nums[9], print_model=True)"
   ]
  },
  {
   "cell_type": "markdown",
   "metadata": {},
   "source": [
    "__Analysis__: feeding the algorithm with either 5 or 9 sequential numbers were able to identify two distinct internal states satisfying the constraints. While in each case, we identified two distinct states, both produce the correct next number in the sequence. Furthermore, we've identified two different initial internal states (i.e., state1, 288666392 or 2436150040) that lead to the same chain of numbers. We can predict with full confidence the next number in the sequence as long as we've observed at least five sequential numbers.\n",
    "\n",
    "Now let's try the same approach on a sequence of 4 numbers (that we already know does not produce the correct next number in the chain)."
   ]
  },
  {
   "cell_type": "code",
   "execution_count": 23,
   "metadata": {},
   "outputs": [
    {
     "name": "stdout",
     "output_type": "stream",
     "text": [
      "For the sequence: [4, 54, 63, 79], problem is satisfiable\n",
      "We were expecting: 13 and got: 60\n",
      "\n",
      "Solution #1\n",
      "Solution #2\n",
      "Solution #3\n",
      "Solution #4\n",
      "Solution #5\n",
      "Solution #6\n",
      "Solution #7\n",
      "Solution #8\n",
      "Solution #9\n",
      "Solution #10\n",
      "Solution #11\n",
      "Solution #12\n",
      "Solution #13\n",
      "Solution #14\n",
      "Solution #15\n",
      "Solution #16\n",
      "Solution #17\n",
      "Solution #18\n",
      "Solution #19\n",
      "Solution #20\n",
      "Solution #21\n",
      "Solution #22\n",
      "Solution #23\n",
      "Solution #24\n",
      "Solution #25\n",
      "Solution #26\n",
      "Solution #27\n",
      "Solution #28\n",
      "Solution #29\n",
      "Solution #30\n",
      "Solution #31\n",
      "Solution #32\n",
      "Solution #33\n",
      "Solution #34\n",
      "Solution #35\n",
      "Solution #36\n",
      "Solution #37\n",
      "Solution #38\n",
      "Solution #39\n",
      "Solution #40\n",
      "Found a total of 40 solutions\n",
      "The solutions are: \n",
      "[60, 49, 49, 9, 9, 29, 29, 32, 32, 18, 18, 93, 93, 69, 77, 77, 69, 67, 5, 5, 25, 25, 13, 13, 55, 55, 48, 48, 12, 12, 60, 24, 67, 24, 16, 16, 89, 89, 96, 96]\n",
      "The solution set is: \n",
      "{5, 9, 12, 13, 16, 18, 24, 25, 29, 32, 48, 49, 55, 60, 67, 69, 77, 89, 93, 96}\n"
     ]
    }
   ],
   "source": [
    "enumerate_solutions(random_nums[:4], random_nums[4], print_solutions=True)"
   ]
  },
  {
   "cell_type": "markdown",
   "metadata": {},
   "source": [
    "__Analysis__: feeding the algorithm with 4 consecutive rand() numbers we were able to identify 40 (!) distinct internal states satisfying the constraints. For reference, these are next number in the sequence predicted by each solution:\n",
    "     \n",
    "    60, 49, 49, 9, 9, 29, 29, 32, 32, 18, 18, 93, 93, 69, 77, 77, 69, 67, 5, 5, 25, 25, 13, 13, 55, 55, 48, 48, 12, 12, 60, 24, 67, 24, 16, 16, 89, 89, 96, 96\n",
    "  \n",
    "While the internal states are distinct, all the solutions we found must produce the sequence: 4, 54, 63, 79. Meaning we found a set of 40 initial states (state1) that creates this exact sequence. Furthermore, the 40 distinct solutions differ only by the 5th number in the chain. Specifically, there are 20 distinct values that the 5th number can take if we know the first four numbers in the sequence. Essentially, we have found a finite number of possible solutions. As such, we can predict with a confidence of 5% the next number in the sequence, if we've observed four numbers.\n",
    "\n",
    "__Conclusion__: based on the experiment outlined above, we can find a finite number of initial states that produce a specific sequence of (pseudo) random numbers. This statement holds for as long as we've observed a sufficiently large sequence of consecutive numbers. Furthermore, it seems that for the magic numbers used in the MSVC 2013 rand() function (which are known to be weak), it's enough to have observed a sequence of 5 numbers to predict with full confidence the 6th one. \n",
    "\n",
    "One possible extension of the approach outlined above is finding the seed required to produce a sequence of, for example, four zeros:"
   ]
  },
  {
   "cell_type": "code",
   "execution_count": 24,
   "metadata": {},
   "outputs": [
    {
     "name": "stdout",
     "output_type": "stream",
     "text": [
      "For the sequence: [0, 0, 0, 0], problem is satisfiable\n",
      "We were expecting: 0 and got: 10\n",
      "\n",
      "Solution #1\n",
      "Solution #2\n",
      "Solution #3\n",
      "Solution #4\n",
      "Solution #5\n",
      "Solution #6\n",
      "Solution #7\n",
      "Solution #8\n",
      "Solution #9\n",
      "Solution #10\n",
      "Solution #11\n",
      "Solution #12\n",
      "Solution #13\n",
      "Solution #14\n",
      "Solution #15\n",
      "Solution #16\n",
      "Solution #17\n",
      "Solution #18\n",
      "Solution #19\n",
      "Solution #20\n",
      "Solution #21\n",
      "Solution #22\n",
      "Solution #23\n",
      "Solution #24\n",
      "Solution #25\n",
      "Solution #26\n",
      "Solution #27\n",
      "Solution #28\n",
      "Solution #29\n",
      "Solution #30\n",
      "Solution #31\n",
      "Solution #32\n",
      "Solution #33\n",
      "Solution #34\n",
      "Solution #35\n",
      "Solution #36\n",
      "Solution #37\n",
      "Solution #38\n",
      "Found a total of 38 solutions\n"
     ]
    }
   ],
   "source": [
    "enumerate_solutions([0, 0, 0, 0], 0)"
   ]
  },
  {
   "cell_type": "code",
   "execution_count": 25,
   "metadata": {},
   "outputs": [
    {
     "name": "stdout",
     "output_type": "stream",
     "text": [
      "For the sequence: [0, 0, 0, 0, 0], problem is unsatisfiable\n",
      "Found a total of 0 solutions\n"
     ]
    }
   ],
   "source": [
    "enumerate_solutions([0, 0, 0, 0, 0], 0)"
   ]
  },
  {
   "cell_type": "markdown",
   "metadata": {},
   "source": [
    "__Conclusion__: based on these two experiments, there are 38 initial states (seeds) that result in four successive zeros, while there is __no__ seed that produces five successive zeros."
   ]
  },
  {
   "cell_type": "markdown",
   "metadata": {},
   "source": [
    "# Part 3 - Extending our approach to a real-world example\n",
    "We'll extend this approach to another LCG based PRNG. Specifically, in this tutorial, we'll focus on breaking the PRNG implemented in the java.util.Random class. After building a model able to predict values and extract the seed, we'll test our approach on OWASP Benchmark. \n",
    "\n",
    "This PRNG, similarly to the MSVC 2013 rand() function described above, uses a seed/previously generated number to generate the next number in the sequence. Below is the (partial) source code for the java.util.Random class.\n",
    "\n",
    "      76: public class Random implements Serializable\n",
    "      77: {\n",
    "             ...\n",
    "     121:   public Random()\n",
    "     122:   {\n",
    "     123:     this(System.currentTimeMillis());\n",
    "     124:   }\n",
    "             ...\n",
    "     132:   public Random(long seed)\n",
    "     133:   {\n",
    "     134:     setSeed(seed);\n",
    "     135:   }\n",
    "             ...\n",
    "     151:   public synchronized void setSeed(long seed)\n",
    "     152:   {\n",
    "     153:     this.seed = (seed ^ 0x5DEECE66DL) & ((1L << 48) - 1);\n",
    "     154:     haveNextNextGaussian = false;\n",
    "     155:   }\n",
    "             ...\n",
    "     173:   protected synchronized int next(int bits)\n",
    "     174:   {\n",
    "     175:     seed = (seed * 0x5DEECE66DL + 0xBL) & ((1L << 48) - 1);\n",
    "     176:     return (int) (seed >>> (48 - bits));\n",
    "     177:   }\n",
    "     \n",
    "From: http://developer.classpath.org/doc/java/util/Random-source.html\n",
    "\n",
    "Based on the code above, a typical random number is generated by:\n",
    "   1. setting class variable this.seed to either externally supplied seed or System.currentTimeMillis()\n",
    "   2. upon getting a call to next(int bits):\n",
    "       * multiply this.seed by the magic number 0x5DEECE66D and add the magic number 0xB\n",
    "       * mask the 47 low order bits of this.seed (set all other bits to 0)\n",
    "       * update this.seed with the number we just calculated\n",
    "       * perform (unsigned) right bit shift until we get the required number of bits\n",
    "       * cast to int and return\n",
    "   3. the following call to next(int bits) uses the previously calculated this.seed \n",
    "   \n",
    "All in all, this approach is very similar to what we've seen during our analysis of MSVC 2013 with a few modifications:\n",
    " * This implementation uses somewhat stronger magic numbers compared to MSVC 2013\n",
    " * Low order bits are considered \"less random\" than high order bits (i.e., have shorter periods). Java gets around this by using a long datatype and lopping off the low order bits before casting to int (row 176)\n",
    "* Use of bit-shifting to convert between data-types before casting\n",
    " \n",
    "Since we'll be dealing with multiple variable types, we'll import the bitstring package which contains useful conversion methods between different numerical representations."
   ]
  },
  {
   "cell_type": "code",
   "execution_count": 26,
   "metadata": {},
   "outputs": [],
   "source": [
    "try:\n",
    "    import bitstring as bs\n",
    "except ModuleNotFoundError:\n",
    "    !pip install bitstring\n",
    "    import bitstring as bs"
   ]
  },
  {
   "cell_type": "markdown",
   "metadata": {},
   "source": [
    "## Simulating the java.util.Random.next() function\n",
    "\n",
    "From this point on, we'd like to start reusing some of our models. As such, below is a utility function for building constraints for the next() function. Note the use of LShR for the logical (i.e., unsigned) right shift & the Extract() function used to convert between BitVec objects of different sizes.\n",
    "\n",
    "Additionally, we'll be making use of the simplify() function. This function analyses a constraint and generates a simpler and equivalent constraints such as in the following case:\n",
    "\n",
    "    Extract(31, 0, LShR(seed_0, 16))\n",
    "\n",
    "Where simplify() produces the (somewhat) easier to read (and equivalent):\n",
    "\n",
    "    Extract(47, 16, seed_0)\n",
    "\n",
    "Furthermore, in the below example, we'll be using the BitVecVal object extensively. This object works similarly to BitVec, but instantiates the object with a concrete constant value.\n",
    "\n",
    "Notice: since we are trying to simulate the way next() works, our model tries to maintain the function signature. As such, we are expected to know the number of bits (gen_bits) that next() generates. The number of generated bits affects how we'll be shifting the internal states to get the output (see line 176 in the source). Essentially, setting gen_bits to 31 makes next() produce unsigned ints while setting it to 32 produces signed ints.\n",
    "\n",
    "__Important note__: the BitVec object doesn't know about signedness. As such, take care when using these objects in mathematical operations."
   ]
  },
  {
   "cell_type": "code",
   "execution_count": 27,
   "metadata": {},
   "outputs": [],
   "source": [
    "def make_constraints_next(n_constraints: int, slope: int = 0x5DEECE66D, intercept: int = 0xB, gen_bits = 31):\n",
    "    # Define some constants\n",
    "    addend = z.BitVecVal(intercept, 64)\n",
    "    multiplier = z.BitVecVal(slope, 64)\n",
    "    mask = z.BitVecVal((1 << 48) - 1, 64)\n",
    "    \n",
    "    # Define symbolic variables for the seed variable\n",
    "    seeds = {f'seed_{i}': z.BitVec(f'seed_{i}', 64) for i in range(n_constraints)}\n",
    "\n",
    "    constraints = []\n",
    "    \n",
    "    # Build constraints for the relation in row 175\n",
    "    for i in range(1, n_constraints):\n",
    "        constraints.append(seeds[f'seed_{i}'] == z.simplify((seeds[f'seed_{i-1}'] * multiplier + addend) & mask))\n",
    "        \n",
    "    # Define symbolic variables for the output from next()\n",
    "    next_outputs = {f'next_output_{i}': z.BitVec(f'output{i}', 32) for i in range(1, n_constraints)}\n",
    "    \n",
    "    # Build the constraints for the relation in row 176\n",
    "    for i in range(1, n_constraints):\n",
    "        constraints.append(next_outputs[f'next_output_{i}'] == z.simplify(z.Extract(31, 0, z.LShR(seeds[f'seed_{i}'], 48 - gen_bits))))\n",
    "        \n",
    "    return constraints, seeds, next_outputs\n"
   ]
  },
  {
   "cell_type": "markdown",
   "metadata": {},
   "source": [
    "## Extracting Random() seed value\n",
    "\n",
    "Next, we'd like to write a function that extracts the seed used to instantiate Random() based on a sequence of random numbers. In order to do that, let's take a look at the nextInt() function. nextInt() comes in two flavors:\n",
    "\n",
    "     238:   public int nextInt()\n",
    "     239:   {\n",
    "     240:     return next(32);\n",
    "     241:   }\n",
    "     ...\n",
    "     290:   public int nextInt(int n)\n",
    "     291:   {\n",
    "     292:     if (n <= 0)\n",
    "     293:       throw new IllegalArgumentException(\"n must be positive\");\n",
    "     294:     if ((n & -n) == n) // i.e., n is a power of 2\n",
    "     295:       return (int) ((n * (long) next(31)) >> 31);\n",
    "     296:     int bits, val;\n",
    "     297:     do\n",
    "     298:       {\n",
    "     299:         bits = next(31);\n",
    "     300:         val = bits % n;\n",
    "     301:       }\n",
    "     302:     while (bits - val + (n - 1) < 0);\n",
    "     303:     return val;\n",
    "     304:   }\n",
    "\n",
    "Since we already have a function for generating constraints that describe next(32), it seems like we can attack the first variant directly. \n",
    "\n",
    "We structured our experiment as such:\n",
    "* Instantiate Random() with a known seed\n",
    "* Generate a random sequence with nextInt()\n",
    "* Write a function that generates constraints based on the known sequence\n",
    "* Extract the seed used for generating the sequence\n",
    "\n",
    "Moreover, we'd like to answer the following questions:\n",
    "* Does the extracted seed equal the known one?\n",
    "* Is the seed unique, or are there other seeds that produce the same sequence?\n",
    "* If alternative seeds exist, do they produce the same sequence when fed to Random()?\n",
    "\n",
    "__Note__: the seed used to instantiate Random() is not used directly as can be seen in:\n",
    "\n",
    "     132:   public Random(long seed)\n",
    "     133:   {\n",
    "     134:     setSeed(seed);\n",
    "     135:   }\n",
    "             ...\n",
    "     151:   public synchronized void setSeed(long seed)\n",
    "     152:   {\n",
    "     153:     this.seed = (seed ^ 0x5DEECE66DL) & ((1L << 48) - 1);\n",
    "     154:     haveNextNextGaussian = false;\n",
    "     155:   }\n",
    "\n",
    "Consequently, we have to take this into account when designing our constraints."
   ]
  },
  {
   "cell_type": "code",
   "execution_count": 28,
   "metadata": {},
   "outputs": [],
   "source": [
    "def find_seed(sequence_length: int, slope: int = 0x5DEECE66D, intercept: int = 0xB):\n",
    "    # Define some constants\n",
    "    addend = z.BitVecVal(intercept, 64)\n",
    "    multiplier = z.BitVecVal(slope, 64)\n",
    "    mask = z.BitVecVal((1 << 48) - 1, 64)\n",
    "    \n",
    "    # Note we're generating an extra constraint\n",
    "    # This is required since we'll be using seed_0 to extract the Random() instantiation value\n",
    "    next_constraints, seeds, next_outputs = make_constraints_next(n_constraints=sequence_length+1, gen_bits=32)\n",
    "    \n",
    "    # Define a symbolic variable that we'll use to get the value that instantiated Random()\n",
    "    original_seed = z.BitVec('original_seed', 64)\n",
    "    \n",
    "    # Build a solver object\n",
    "    s = z.Solver()\n",
    "    \n",
    "    # Build a constraint that relates seed_0 and the value used to instantiate Random()\n",
    "    s.add(seeds[f'seed_0'] == (original_seed ^ multiplier) & mask)\n",
    "    \n",
    "    # Next let's add the constraints we've built for next()\n",
    "    s.add(next_constraints)\n",
    "    \n",
    "    # Lastly, let's return all the objects we've constructed so far   \n",
    "    return s, original_seed, seeds, next_outputs"
   ]
  },
  {
   "cell_type": "markdown",
   "metadata": {},
   "source": [
    "We've instantiated Random() with the value 1337 and called nextInt() 6 times. The sequence produced was:"
   ]
  },
  {
   "cell_type": "code",
   "execution_count": 29,
   "metadata": {},
   "outputs": [],
   "source": [
    "known_ints = [-1460590454, 747279288, -1334692577, -539670452, -501340078, -143413999]"
   ]
  },
  {
   "cell_type": "markdown",
   "metadata": {},
   "source": [
    "Let's try to extract the seed from the sequence:"
   ]
  },
  {
   "cell_type": "code",
   "execution_count": 30,
   "metadata": {},
   "outputs": [
    {
     "name": "stdout",
     "output_type": "stream",
     "text": [
      "[seed_0 == (original_seed ^ 25214903917) & 281474976710655,\n",
      " seed_1 ==\n",
      " Concat(0, 11 + 25214903917*Extract(47, 0, seed_0)),\n",
      " seed_2 ==\n",
      " Concat(0, 11 + 25214903917*Extract(47, 0, seed_1)),\n",
      " seed_3 ==\n",
      " Concat(0, 11 + 25214903917*Extract(47, 0, seed_2)),\n",
      " seed_4 ==\n",
      " Concat(0, 11 + 25214903917*Extract(47, 0, seed_3)),\n",
      " seed_5 ==\n",
      " Concat(0, 11 + 25214903917*Extract(47, 0, seed_4)),\n",
      " seed_6 ==\n",
      " Concat(0, 11 + 25214903917*Extract(47, 0, seed_5)),\n",
      " output1 == Extract(47, 16, seed_1),\n",
      " output2 == Extract(47, 16, seed_2),\n",
      " output3 == Extract(47, 16, seed_3),\n",
      " output4 == Extract(47, 16, seed_4),\n",
      " output5 == Extract(47, 16, seed_5),\n",
      " output6 == Extract(47, 16, seed_6),\n",
      " output1 == 2834376842,\n",
      " output2 == 747279288]\n"
     ]
    }
   ],
   "source": [
    "solver, original_seed, seeds, next_ouputs = find_seed(sequence_length=len(known_ints))\n",
    "\n",
    "# Notice: we setup the constraints so that next_outputs_1 is the result of seed_1 since we're using seed_0 for other uses\n",
    "# Consequently, the index in known_ints is smaller by 1 than the index for next_outputs\n",
    "solver.add(next_ouputs[f'next_output_{1}'] == known_ints[0])\n",
    "solver.add(next_ouputs[f'next_output_{2}'] == known_ints[1])\n",
    "\n",
    "# Lets take a look at our constraints before trying to solve them\n",
    "print(solver)"
   ]
  },
  {
   "cell_type": "code",
   "execution_count": 31,
   "metadata": {},
   "outputs": [
    {
     "data": {
      "text/plain": [
       "sat"
      ]
     },
     "execution_count": 31,
     "metadata": {},
     "output_type": "execute_result"
    }
   ],
   "source": [
    "solver.check()"
   ]
  },
  {
   "cell_type": "markdown",
   "metadata": {},
   "source": [
    "The constraints are satisfiable. Did we get the original seed we expected?"
   ]
  },
  {
   "cell_type": "code",
   "execution_count": 32,
   "metadata": {},
   "outputs": [
    {
     "data": {
      "text/plain": [
       "1337"
      ]
     },
     "execution_count": 32,
     "metadata": {},
     "output_type": "execute_result"
    }
   ],
   "source": [
    "solver.model()[original_seed]"
   ]
  },
  {
   "cell_type": "markdown",
   "metadata": {},
   "source": [
    "## Predicting the rest of the sequence\n",
    "What about the rest of the numbers in the sequence? Do they correspond to our known sequence?\n",
    "\n",
    "__Notice__: since we we're using BitVec objects, the results are unsigned. We'll use the bitstring library (aliased as bs) to convert the unsigned next_outputs and the signed known_ints"
   ]
  },
  {
   "cell_type": "code",
   "execution_count": 33,
   "metadata": {},
   "outputs": [
    {
     "name": "stdout",
     "output_type": "stream",
     "text": [
      "All assertions passed\n"
     ]
    }
   ],
   "source": [
    "for i, known_int in enumerate(known_ints):\n",
    "    calculated_int = solver.model()[next_ouputs[f'next_output_{i+1}']].as_long()\n",
    "    assert bs.BitArray(uint=calculated_int, length=32).int == known_int\n",
    "print('All assertions passed')"
   ]
  },
  {
   "cell_type": "markdown",
   "metadata": {},
   "source": [
    "__Conclusion__: We can predict the output from all future nextInt() calls & extract the seed used to instantiate Random() based on just __2__ consecutive numbers\n",
    "\n",
    "Do the numbers have to be consecutive? Do we have to know the first number in the sequence for this to work?"
   ]
  },
  {
   "cell_type": "code",
   "execution_count": 34,
   "metadata": {},
   "outputs": [
    {
     "name": "stdout",
     "output_type": "stream",
     "text": [
      "Trying sequence indices: 0, 1\n",
      "All assertions passed\n",
      "\n",
      "Trying sequence indices: 0, 2\n",
      "All assertions passed\n",
      "\n",
      "Trying sequence indices: 0, 3\n",
      "All assertions passed\n",
      "\n",
      "Trying sequence indices: 0, 4\n",
      "All assertions passed\n",
      "\n",
      "Trying sequence indices: 0, 5\n",
      "All assertions passed\n",
      "\n",
      "Trying sequence indices: 1, 2\n",
      "All assertions passed\n",
      "\n",
      "Trying sequence indices: 1, 3\n",
      "All assertions passed\n",
      "\n",
      "Trying sequence indices: 1, 4\n",
      "All assertions passed\n",
      "\n",
      "Trying sequence indices: 1, 5\n",
      "All assertions passed\n",
      "\n",
      "Trying sequence indices: 2, 3\n",
      "All assertions passed\n",
      "\n",
      "Trying sequence indices: 2, 4\n",
      "All assertions passed\n",
      "\n",
      "Trying sequence indices: 2, 5\n",
      "All assertions passed\n",
      "\n",
      "Trying sequence indices: 3, 4\n",
      "All assertions passed\n",
      "\n",
      "Trying sequence indices: 3, 5\n",
      "All assertions passed\n",
      "\n",
      "Trying sequence indices: 4, 5\n",
      "All assertions passed\n",
      "\n"
     ]
    }
   ],
   "source": [
    "# Generate all possible index pair combinations for known_ints\n",
    "import itertools\n",
    "index_pairs = itertools.combinations(range(len(known_ints)), 2)\n",
    "\n",
    "# Now let's run our algorithm on each pair\n",
    "for i, j in index_pairs:\n",
    "    print(f'Trying sequence indices: {i}, {j}')\n",
    "    # Generate a new solver object\n",
    "    solver, original_seed, seeds, next_ouputs = find_seed(sequence_length=len(known_ints))\n",
    "\n",
    "    # Set constraints for the output\n",
    "    solver.add(next_ouputs[f'next_output_{i+1}'] == known_ints[i])\n",
    "    solver.add(next_ouputs[f'next_output_{j+1}'] == known_ints[j])\n",
    "\n",
    "    assert solver.check() == z.sat\n",
    "    assert solver.model()[original_seed] == 1337\n",
    "    print(f'All assertions passed\\n')"
   ]
  },
  {
   "cell_type": "markdown",
   "metadata": {},
   "source": [
    "__Conclusion__: As long as we know two numbers in the sequence, we can predict the entire sequence.\n",
    "\n",
    "## Seed uniqueness\n",
    "Now that we've shown we can extract the seed, can we find another seed that produces the same sequence?"
   ]
  },
  {
   "cell_type": "code",
   "execution_count": 35,
   "metadata": {},
   "outputs": [
    {
     "name": "stdout",
     "output_type": "stream",
     "text": [
      "Looking for 10 unique original_seed values that produce our sequence\n",
      "Found solution #1:\t 0x0000000000000539\n",
      "Found solution #2:\t 0x0100000000000539\n",
      "Found solution #3:\t 0x0200000000000539\n",
      "Found solution #4:\t 0x0300000000000539\n",
      "Found solution #5:\t 0x0002000000000539\n",
      "Found solution #6:\t 0x0202000000000539\n",
      "Found solution #7:\t 0x0102000000000539\n",
      "Found solution #8:\t 0x0302000000000539\n",
      "Found solution #9:\t 0x4000000000000539\n",
      "Found solution #10:\t 0x4002000000000539\n"
     ]
    }
   ],
   "source": [
    "# Generate a new solver object\n",
    "solver, original_seed, seeds, next_ouputs = find_seed(sequence_length=len(known_ints))\n",
    "\n",
    "n_solutions = 10\n",
    "print(f'Looking for {n_solutions} unique original_seed values that produce our sequence')\n",
    "for i in range(n_solutions):\n",
    "    # Set constraints for the output\n",
    "    solver.add(next_ouputs[f'next_output_{1}'] == known_ints[0])\n",
    "    solver.add(next_ouputs[f'next_output_{2}'] == known_ints[1])\n",
    "    \n",
    "    if solver.check() == z.sat:\n",
    "        solution = solver.model()[original_seed].as_long()\n",
    "        solution_hex = bs.BitArray(uint=solution, length=64).hex\n",
    "        print(f'Found solution #{i+1}:\\t 0x{solution_hex}')\n",
    "        \n",
    "        # Invert the solution we found\n",
    "        solver.add(solver.model()[original_seed] != original_seed)"
   ]
  },
  {
   "cell_type": "markdown",
   "metadata": {},
   "source": [
    "__Analysis__: The seeds we get out of this algorithm are not unique. As can be seen above, the 16 MSBs are free and could take any value, __without changing the generated sequence__. This result makes sense since these bits are masked immediately when setSeed() is run (see line 153). As such, they do not affect the sequence.\n",
    "\n",
    "## Simulating the java.util.Random.nextLong() function\n",
    "\n",
    "Now that we've shown that the output from next() is entirely predictable using just two (non-consequtive) numbers, we are free to proceed with breaking the other public methods available in Random(). Namely, we'll be dealing with the nextLong() method:\n",
    "\n",
    "    318:   public long nextLong()\n",
    "    319:   {\n",
    "    320:     return ((long) next(32) << 32) + next(32);\n",
    "    321:   }\n",
    "    \n",
    "We modeled this method as a direct extension of what we've shown above. Mainly, what this method does (see [order of precedence in Java](http://bmanolov.free.fr/javaoperators.php) for more info) is as follows:\n",
    "1. generate a signed int using next(32) - inside the parentheses\n",
    "2. cast int to long\n",
    "3. bit shift the long 32 bits to the left\n",
    "4. generate another signed int using next(32) - outside the parentheses\n",
    "5. add the signed int to the bit shifted long\n",
    "6. return the sum\n",
    "\n",
    "Based on this implementation, for any number produced by nextLong() we get double the information than what we got when we broke nextInt(). As such, we should be able to modify our previously described constraints to extract the Random() instantiation value based on just one nextLong() call.\n",
    "\n",
    "Note the use of BV2Int that converts BitVec objects into Int objects. Using this conversion in our example forces Z3 to use an arithmetic model, which simplifies finding a solution."
   ]
  },
  {
   "cell_type": "code",
   "execution_count": 36,
   "metadata": {},
   "outputs": [],
   "source": [
    "def find_seed_nextLong(sequence_length: int, slope: int = 0x5DEECE66D, intercept: int = 0xB):\n",
    "    # Define some constants\n",
    "    addend = z.BitVecVal(intercept, 64)\n",
    "    multiplier = z.BitVecVal(slope, 64)\n",
    "    mask = z.BitVecVal((1 << 48) - 1, 64)\n",
    "    \n",
    "    # Note we're generating double the constraints in the sequence_length + 1\n",
    "    # This is required since we'll be using seed_0 to extract the Random() instantiation value\n",
    "    # Furthermore, each nextLong call consumes two outputs from next()\n",
    "    next_constraints, seeds, next_outputs = make_constraints_next(n_constraints=2*sequence_length+1, gen_bits=32)\n",
    "    \n",
    "    # Define a symbolic variable that we'll use to get the value that instantiated Random()\n",
    "    original_seed = z.BitVec('original_seed', 64)\n",
    "    \n",
    "    # Build a solver object\n",
    "    s = z.Solver()\n",
    "    \n",
    "    # Build a constraint that relates seed_0 and the value used to instantiate Random()\n",
    "    s.add(seeds[f'seed_0'] == (original_seed ^ multiplier) & mask)\n",
    "    \n",
    "    # Next let's add the constraints we've built for next()\n",
    "    s.add(next_constraints)\n",
    "    \n",
    "    # Define symbolic variables for the output from nextLong\n",
    "    # Notice: we're using a symbolic variable of type Int\n",
    "    # Since nextLong does a sum on ints, it's easier to model this using Z3 arithmetic models\n",
    "    # This differs from previous examples where we used BitVec objects exclusively\n",
    "    # Consequently, we'll be using the conversion method BV2Int that takes a BitVec object and turns it into an Int object\n",
    "    nextLong_outputs = {f'nextLong_output_{i}': z.Int(f'nextLong_output_{i}') for i in range(1, sequence_length + 1)}\n",
    "    \n",
    "    # Finally, let's add the constraints for nextLong\n",
    "    for i, j in zip(range(1, sequence_length + 1), range(1, sequence_length * 2 + 1, 2)):\n",
    "        # Notice: we've replaced the bit shift operator in the source with an enquivalent multiplication\n",
    "        # Z3 doesn't support bit shift operations on Int objects\n",
    "        first_next = z.BV2Int(next_outputs[f'next_output_{j}'], is_signed=True) * 2 ** 32\n",
    "        second_next = z.BV2Int(next_outputs[f'next_output_{j+1}'], is_signed=True)\n",
    "        s.add(nextLong_outputs[f'nextLong_output_{i}'] == first_next + second_next)\n",
    "    \n",
    "    # Lastly, let's return all the objects we've constructed so far   \n",
    "    return s, original_seed, nextLong_outputs"
   ]
  },
  {
   "cell_type": "markdown",
   "metadata": {},
   "source": [
    "We've instantiated Random() with the value 1337 and called nextLong() 4 times. The sequence produced was:"
   ]
  },
  {
   "cell_type": "code",
   "execution_count": 37,
   "metadata": {},
   "outputs": [],
   "source": [
    "known_longs = [-6273188232032513096, -5732460968968632244, -2153239239327503087, -1872204974168004231]"
   ]
  },
  {
   "cell_type": "markdown",
   "metadata": {},
   "source": [
    "Let's try to extract the seed from the sequence:"
   ]
  },
  {
   "cell_type": "code",
   "execution_count": 38,
   "metadata": {},
   "outputs": [
    {
     "name": "stdout",
     "output_type": "stream",
     "text": [
      "[seed_0 == (original_seed ^ 25214903917) & 281474976710655,\n",
      " seed_1 ==\n",
      " Concat(0, 11 + 25214903917*Extract(47, 0, seed_0)),\n",
      " seed_2 ==\n",
      " Concat(0, 11 + 25214903917*Extract(47, 0, seed_1)),\n",
      " seed_3 ==\n",
      " Concat(0, 11 + 25214903917*Extract(47, 0, seed_2)),\n",
      " seed_4 ==\n",
      " Concat(0, 11 + 25214903917*Extract(47, 0, seed_3)),\n",
      " seed_5 ==\n",
      " Concat(0, 11 + 25214903917*Extract(47, 0, seed_4)),\n",
      " seed_6 ==\n",
      " Concat(0, 11 + 25214903917*Extract(47, 0, seed_5)),\n",
      " seed_7 ==\n",
      " Concat(0, 11 + 25214903917*Extract(47, 0, seed_6)),\n",
      " seed_8 ==\n",
      " Concat(0, 11 + 25214903917*Extract(47, 0, seed_7)),\n",
      " output1 == Extract(47, 16, seed_1),\n",
      " output2 == Extract(47, 16, seed_2),\n",
      " output3 == Extract(47, 16, seed_3),\n",
      " output4 == Extract(47, 16, seed_4),\n",
      " output5 == Extract(47, 16, seed_5),\n",
      " output6 == Extract(47, 16, seed_6),\n",
      " output7 == Extract(47, 16, seed_7),\n",
      " output8 == Extract(47, 16, seed_8),\n",
      " nextLong_output_1 ==\n",
      " If(output1 < 0,\n",
      "    BV2Int(output1) - 4294967296,\n",
      "    BV2Int(output1))*\n",
      " 4294967296 +\n",
      " If(output2 < 0,\n",
      "    BV2Int(output2) - 4294967296,\n",
      "    BV2Int(output2)),\n",
      " nextLong_output_2 ==\n",
      " If(output3 < 0,\n",
      "    BV2Int(output3) - 4294967296,\n",
      "    BV2Int(output3))*\n",
      " 4294967296 +\n",
      " If(output4 < 0,\n",
      "    BV2Int(output4) - 4294967296,\n",
      "    BV2Int(output4)),\n",
      " nextLong_output_3 ==\n",
      " If(output5 < 0,\n",
      "    BV2Int(output5) - 4294967296,\n",
      "    BV2Int(output5))*\n",
      " 4294967296 +\n",
      " If(output6 < 0,\n",
      "    BV2Int(output6) - 4294967296,\n",
      "    BV2Int(output6)),\n",
      " nextLong_output_4 ==\n",
      " If(output7 < 0,\n",
      "    BV2Int(output7) - 4294967296,\n",
      "    BV2Int(output7))*\n",
      " 4294967296 +\n",
      " If(output8 < 0,\n",
      "    BV2Int(output8) - 4294967296,\n",
      "    BV2Int(output8)),\n",
      " nextLong_output_1 == -6273188232032513096]\n"
     ]
    }
   ],
   "source": [
    "solver, original_seed, nextLong_outputs = find_seed_nextLong(sequence_length=len(known_longs))\n",
    "\n",
    "# As mentioned before, we should have enough information in one long to extract the instantiation value\n",
    "solver.add(nextLong_outputs[f'nextLong_output_{1}'] == known_longs[0])\n",
    "\n",
    "# Lets take a look at our constraints before trying to solve them\n",
    "print(solver)"
   ]
  },
  {
   "cell_type": "markdown",
   "metadata": {},
   "source": [
    "Notice how Z3 generated correct constraints for signed integer sums using the If constraint."
   ]
  },
  {
   "cell_type": "code",
   "execution_count": 39,
   "metadata": {},
   "outputs": [
    {
     "data": {
      "text/plain": [
       "sat"
      ]
     },
     "execution_count": 39,
     "metadata": {},
     "output_type": "execute_result"
    }
   ],
   "source": [
    "solver.check()"
   ]
  },
  {
   "cell_type": "markdown",
   "metadata": {},
   "source": [
    "So the calculated seed is:"
   ]
  },
  {
   "cell_type": "code",
   "execution_count": 40,
   "metadata": {},
   "outputs": [
    {
     "data": {
      "text/plain": [
       "1337"
      ]
     },
     "execution_count": 40,
     "metadata": {},
     "output_type": "execute_result"
    }
   ],
   "source": [
    "solver.model()[original_seed]"
   ]
  },
  {
   "cell_type": "markdown",
   "metadata": {},
   "source": [
    "__Success!__ we can extract the seed from just one call to nextLong().\n",
    "\n",
    "Are the other predicted numbers equal to the known values?"
   ]
  },
  {
   "cell_type": "code",
   "execution_count": 41,
   "metadata": {},
   "outputs": [
    {
     "name": "stdout",
     "output_type": "stream",
     "text": [
      "All assertions passed\n"
     ]
    }
   ],
   "source": [
    "for i, known_long in enumerate(known_longs):\n",
    "    calculated_long = solver.model()[nextLong_outputs[f'nextLong_output_{i+1}']].as_long()\n",
    "    assert calculated_long == known_long\n",
    "print('All assertions passed')"
   ]
  },
  {
   "cell_type": "markdown",
   "metadata": {},
   "source": [
    "__Conclusion__: A single nextLong() is all that's required to extract all future values. Furthermore, if we know the quantity of generated numbers, we can also extract the value used to instantiate Random().\n",
    "\n",
    "## OWASP Benchmark & detecting weak randomness\n",
    "\n",
    "Next, we'd like to apply our approach to a real-world use case.\n",
    "\n",
    "The Open Web Application Security Project ([OWASP](https://en.wikipedia.org/wiki/OWASP)) is is an online community that produces freely-available articles, methodologies, documentation, tools, and technologies in the field of web application security. Among the many resources OWASP produces, they make available a free and open test suite designed to evaluate the speed, coverage, and accuracy of automated software vulnerability detection tools and services called [OWASP Benchmark](https://www.owasp.org/index.php/Benchmark). Available as a [Docker image](https://hub.docker.com/r/owasp/benchmark), the Benchmark contains thousands of test cases that are fully runnable and exploitable.\n",
    "\n",
    "One set of available tests deals with weak random number generators. Specifically, we'll be using  BenchmarkTest00086 that generates a random number by calling java.util.Random.nextLong() and returns it as the value of a cookie. In order to show the applicability of our approach to a real world case, we'd like to extract the Random() instantiation value (which in this case will be System.currentTimeMillis(), since Random() is instantiated without an input value). Source of the test from the OWASP Benchmark [github](https://github.com/shimi-eshkenazi/OWASP-Benchmark/blob/master/src/main/java/org/owasp/benchmark/testcode/BenchmarkTest00086.java) repository:\n",
    "\n",
    "        65:    long l = new java.util.Random().nextLong();\n",
    "        66:    String rememberMeKey = Long.toString(l);\n",
    "        ...\n",
    "        94:    javax.servlet.http.Cookie rememberMe = new javax.servlet.http.Cookie(cookieName, rememberMeKey);\n",
    "\n",
    "To grab the cookies, we'll use a small utility function based on puppeteer (a headless API for Chromium) and its' python bindings pyppeteer:"
   ]
  },
  {
   "cell_type": "code",
   "execution_count": 42,
   "metadata": {},
   "outputs": [],
   "source": [
    "url = 'https://10.120.129.80:8443/benchmark/weakrand-00/BenchmarkTest00086?BenchmarkTest00086=SafeText'"
   ]
  },
  {
   "cell_type": "code",
   "execution_count": 43,
   "metadata": {},
   "outputs": [],
   "source": [
    "import asyncio\n",
    "try:\n",
    "    from pyppeteer import launch\n",
    "except ModuleNotFoundError:\n",
    "    !pip install pyppeteer\n",
    "    from pyppeteer import launch"
   ]
  },
  {
   "cell_type": "code",
   "execution_count": 44,
   "metadata": {},
   "outputs": [],
   "source": [
    "async def get_cookie(url: str) -> int:\n",
    "    browser = await launch({'headless': True,\n",
    "                            'args': ['--no-sandbox', '--disable-setuid-sandbox'],\n",
    "                            'ignoreHTTPSErrors': True});\n",
    "    page = await browser.newPage()\n",
    "\n",
    "    await page.goto(url)\n",
    "    elementList = await page.querySelectorAll('form')\n",
    "    button = await elementList[0].querySelectorAll('input')\n",
    "    await button[0].click()\n",
    "\n",
    "    await page.waitForNavigation();\n",
    "\n",
    "    cookies = await page.cookies()\n",
    "\n",
    "    for cookie in cookies:\n",
    "        if cookie['name'] == 'rememberMe00086':\n",
    "            return int(cookie['value'])"
   ]
  },
  {
   "cell_type": "code",
   "execution_count": 45,
   "metadata": {},
   "outputs": [
    {
     "data": {
      "text/plain": [
       "[-8886403976268848760]"
      ]
     },
     "execution_count": 45,
     "metadata": {},
     "output_type": "execute_result"
    }
   ],
   "source": [
    "cookie_nums = []\n",
    "for i in range(1):\n",
    "    cookie_nums.append(await get_cookie(url = url))\n",
    "cookie_nums"
   ]
  },
  {
   "cell_type": "code",
   "execution_count": 46,
   "metadata": {},
   "outputs": [
    {
     "name": "stdout",
     "output_type": "stream",
     "text": [
      "Constraints are: sat\n",
      "Instantiation value is: 75531093912490\n"
     ]
    }
   ],
   "source": [
    "solver, original_seed, nextLong_outputs = find_seed_nextLong(sequence_length=len(known_longs))\n",
    "\n",
    "# As mentioned before, we should have enough information in single long to extract the instantiation value\n",
    "solver.add(nextLong_outputs[f'nextLong_output_{1}'] == cookie_nums[0])\n",
    "\n",
    "# Check if satisfiable\n",
    "print(f'Constraints are: {solver.check()}')\n",
    "\n",
    "# Extract seed\n",
    "print(f'Instantiation value is: {solver.model()[original_seed]}')"
   ]
  },
  {
   "cell_type": "markdown",
   "metadata": {},
   "source": [
    "# Notes & sources:\n",
    "* https://en.wikipedia.org/wiki/Boolean_satisfiability_problem\n",
    "* https://en.wikipedia.org/wiki/First-order_logic\n",
    "* https://en.wikipedia.org/wiki/Satisfiability_modulo_theories\n",
    "* https://en.wikipedia.org/wiki/Answer_set_programming\n",
    "\n",
    "### GitHub repository:\n",
    "* https://github.com/Z3Prover/z3\n",
    "\n",
    "### Book with many (!) worked examples (mostly in Python) using Z3:\n",
    "* https://yurichev.com/writings/SAT_SMT_by_example.pdf\n",
    "\n",
    "### Reverse engineering demo using Cutter (Radare GUI) and solution validation using Z3\n",
    "* https://www.youtube.com/watch?v=oNGLIkSUgQo"
   ]
  }
 ],
 "metadata": {
  "kernelspec": {
   "display_name": "Python 3",
   "language": "python",
   "name": "python3"
  },
  "language_info": {
   "codemirror_mode": {
    "name": "ipython",
    "version": 3
   },
   "file_extension": ".py",
   "mimetype": "text/x-python",
   "name": "python",
   "nbconvert_exporter": "python",
   "pygments_lexer": "ipython3",
   "version": "3.7.3"
  }
 },
 "nbformat": 4,
 "nbformat_minor": 2
}
